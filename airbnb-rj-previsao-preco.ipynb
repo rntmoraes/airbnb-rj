{
 "cells": [
  {
   "cell_type": "markdown",
   "metadata": {},
   "source": [
    "**Autor** : Renato de Moraes\n",
    "\n",
    "**e-mail**: rntmoraes@gmail.com"
   ]
  },
  {
   "cell_type": "markdown",
   "metadata": {},
   "source": [
    "# Projeto Airbnb Rio - Ferramenta de Previsão de Preço de Imóvel "
   ]
  },
  {
   "cell_type": "markdown",
   "metadata": {},
   "source": [
    "#  <a name=\"resumo\"> RESUMO </a>\n",
    "[Voltar ao índice](#indice)"
   ]
  },
  {
   "cell_type": "markdown",
   "metadata": {},
   "source": [
    "### Objetivo\n",
    "\n",
    "Construir um modelo de previsão de preço que permita que uma pessoa comum, que possui um imóvel no Rio de Janeiro, possa saber quanto deve cobrar pela diária do seu imóvel.\n",
    "\n",
    "Ou ainda, para o locador comum, dado o imóvel que ele está buscando, ajudar a saber se aquele imóvel está com preço atrativo (abaixo da média para imóveis com as mesmas características) ou não.\n",
    "\n",
    "\n",
    "### Expectativas Iniciais\n",
    "\n",
    "- Acredito que a sazonalidade pode ser um fator importante, visto que meses como dezembro costumam ser bem caros no RJ\n",
    "- A localização do imóvel deve fazer muita diferença no preço, já que no Rio de Janeiro a localização pode mudar completamente as características do lugar (segurança, beleza natural, pontos turísticos)\n",
    "- Adicionais/Comodidades podem ter um impacto significativo, visto que existem muitos prédios e casas antigos no Rio de Janeiro\n",
    "\n",
    "Vamos descobrir o quanto esses fatores impactam e se temos outros fatores não tão intuitivos que são extremamente importantes."
   ]
  },
  {
   "cell_type": "markdown",
   "metadata": {},
   "source": [
    "#  <a name=\"indice\">  Índice </a>"
   ]
  },
  {
   "cell_type": "markdown",
   "metadata": {},
   "source": [
    "* [Resumo](#resumo)\n",
    "* [Índice](#indice)\n",
    "* [Seção 1 - Importando os Arquivos](#secao_1)\n",
    "* [Seção 2 - Seleção de Colunas](#secao_2)\n",
    "* [Seção 3 - Tratamento de Dados](#secao_3)  \n",
    "    - [Missing Values](#secao_3.1)  \n",
    "    - [Tipos de Dados](#secao_3.2)  \n",
    "* [Checkpoint 1](#checkpoint_1) \n",
    "* [Seção 4 - Visualização de Dados](#secao_4)    \n",
    "* [Seção 5 - Análise Exploratória e Tratamento de Dados Adicionais](#secao_5)\n",
    "    - [Outliers](#secao_5.1)  \n",
    "    - [Valores de Texto](#secao_5.2)  \n",
    "    - [Encoding](#secao_5.3)  \n",
    "* [Checkpoint 2](#checkpoint_2) \n",
    "* [Seção 6 - Modelo de Previsão](#secao_6)\n",
    "* [Seção 7 - Análise do Melhor Modelo](#secao_7)"
   ]
  },
  {
   "cell_type": "markdown",
   "metadata": {},
   "source": [
    "#  <a name=\"secao_1\"> Seção 1 - Importando as bibliotecas e arquivos</a>\n",
    "[Voltar ao índice](#indice)"
   ]
  },
  {
   "cell_type": "markdown",
   "metadata": {},
   "source": [
    "### Importando as Bibliotecas"
   ]
  },
  {
   "cell_type": "code",
   "execution_count": 1,
   "metadata": {},
   "outputs": [],
   "source": [
    "import pandas as pd\n",
    "import pathlib\n",
    "import numpy as np\n",
    "import seaborn as sns\n",
    "import matplotlib.pyplot as plt\n",
    "import plotly.express as px"
   ]
  },
  {
   "cell_type": "markdown",
   "metadata": {},
   "source": [
    "### Importando e Consolidando a Base de Dados"
   ]
  },
  {
   "cell_type": "markdown",
   "metadata": {},
   "source": [
    "As bases de dados que importaremos é composta de 25 arquivos .csv (um para cada mês), por isso além de importar os dados temos que consolidar tudo em um único Data Frame e aproveitaremos a informação obtida no nome de cada arquivo para adcionarmos as colunas: 'mes' e 'ano'.  \n",
    "Obs: Quando baixamos e descompactamos os arquivos, além dos 25 arquivos mencionados acima também temos um arquivo nomeado como 'total_data.csv' que não será utilizado por estar incompleto, por isso deve ser deletado da pasta 'dataset' antes de executar a célula abaixo:"
   ]
  },
  {
   "cell_type": "code",
   "execution_count": 2,
   "metadata": {},
   "outputs": [
    {
     "name": "stderr",
     "output_type": "stream",
     "text": [
      "C:\\Users\\Renato\\anaconda3\\lib\\site-packages\\IPython\\core\\interactiveshell.py:3165: DtypeWarning: Columns (62,87) have mixed types.Specify dtype option on import or set low_memory=False.\n",
      "  has_raised = await self.run_ast_nodes(code_ast.body, cell_name,\n",
      "C:\\Users\\Renato\\anaconda3\\lib\\site-packages\\IPython\\core\\interactiveshell.py:3165: DtypeWarning: Columns (61,62,94) have mixed types.Specify dtype option on import or set low_memory=False.\n",
      "  has_raised = await self.run_ast_nodes(code_ast.body, cell_name,\n",
      "C:\\Users\\Renato\\anaconda3\\lib\\site-packages\\IPython\\core\\interactiveshell.py:3165: DtypeWarning: Columns (87) have mixed types.Specify dtype option on import or set low_memory=False.\n",
      "  has_raised = await self.run_ast_nodes(code_ast.body, cell_name,\n"
     ]
    },
    {
     "data": {
      "text/html": [
       "<div>\n",
       "<style scoped>\n",
       "    .dataframe tbody tr th:only-of-type {\n",
       "        vertical-align: middle;\n",
       "    }\n",
       "\n",
       "    .dataframe tbody tr th {\n",
       "        vertical-align: top;\n",
       "    }\n",
       "\n",
       "    .dataframe thead th {\n",
       "        text-align: right;\n",
       "    }\n",
       "</style>\n",
       "<table border=\"1\" class=\"dataframe\">\n",
       "  <thead>\n",
       "    <tr style=\"text-align: right;\">\n",
       "      <th></th>\n",
       "      <th>id</th>\n",
       "      <th>listing_url</th>\n",
       "      <th>scrape_id</th>\n",
       "      <th>last_scraped</th>\n",
       "      <th>name</th>\n",
       "      <th>summary</th>\n",
       "      <th>space</th>\n",
       "      <th>description</th>\n",
       "      <th>experiences_offered</th>\n",
       "      <th>neighborhood_overview</th>\n",
       "      <th>...</th>\n",
       "      <th>minimum_minimum_nights</th>\n",
       "      <th>maximum_minimum_nights</th>\n",
       "      <th>minimum_maximum_nights</th>\n",
       "      <th>maximum_maximum_nights</th>\n",
       "      <th>minimum_nights_avg_ntm</th>\n",
       "      <th>maximum_nights_avg_ntm</th>\n",
       "      <th>number_of_reviews_ltm</th>\n",
       "      <th>calculated_host_listings_count_entire_homes</th>\n",
       "      <th>calculated_host_listings_count_private_rooms</th>\n",
       "      <th>calculated_host_listings_count_shared_rooms</th>\n",
       "    </tr>\n",
       "  </thead>\n",
       "  <tbody>\n",
       "    <tr>\n",
       "      <th>0</th>\n",
       "      <td>14063</td>\n",
       "      <td>https://www.airbnb.com/rooms/14063</td>\n",
       "      <td>20180414160018</td>\n",
       "      <td>2018-04-14</td>\n",
       "      <td>Living in a Postcard</td>\n",
       "      <td>Besides the most iconic's view, our apartment ...</td>\n",
       "      <td>NaN</td>\n",
       "      <td>Besides the most iconic's view, our apartment ...</td>\n",
       "      <td>none</td>\n",
       "      <td>Best and favorite neighborhood of Rio. Perfect...</td>\n",
       "      <td>...</td>\n",
       "      <td>NaN</td>\n",
       "      <td>NaN</td>\n",
       "      <td>NaN</td>\n",
       "      <td>NaN</td>\n",
       "      <td>NaN</td>\n",
       "      <td>NaN</td>\n",
       "      <td>NaN</td>\n",
       "      <td>NaN</td>\n",
       "      <td>NaN</td>\n",
       "      <td>NaN</td>\n",
       "    </tr>\n",
       "    <tr>\n",
       "      <th>1</th>\n",
       "      <td>17878</td>\n",
       "      <td>https://www.airbnb.com/rooms/17878</td>\n",
       "      <td>20180414160018</td>\n",
       "      <td>2018-04-14</td>\n",
       "      <td>Very Nice 2Br - Copacabana - WiFi</td>\n",
       "      <td>Please note that special rates apply for New Y...</td>\n",
       "      <td>- large balcony which looks out on pedestrian ...</td>\n",
       "      <td>Please note that special rates apply for New Y...</td>\n",
       "      <td>none</td>\n",
       "      <td>This is the best spot in Rio. Everything happe...</td>\n",
       "      <td>...</td>\n",
       "      <td>NaN</td>\n",
       "      <td>NaN</td>\n",
       "      <td>NaN</td>\n",
       "      <td>NaN</td>\n",
       "      <td>NaN</td>\n",
       "      <td>NaN</td>\n",
       "      <td>NaN</td>\n",
       "      <td>NaN</td>\n",
       "      <td>NaN</td>\n",
       "      <td>NaN</td>\n",
       "    </tr>\n",
       "    <tr>\n",
       "      <th>2</th>\n",
       "      <td>24480</td>\n",
       "      <td>https://www.airbnb.com/rooms/24480</td>\n",
       "      <td>20180414160018</td>\n",
       "      <td>2018-04-14</td>\n",
       "      <td>Nice and cozy near Ipanema Beach</td>\n",
       "      <td>My studio is located in the best  of Ipanema. ...</td>\n",
       "      <td>The studio is located at Vinicius de Moraes St...</td>\n",
       "      <td>My studio is located in the best  of Ipanema. ...</td>\n",
       "      <td>none</td>\n",
       "      <td>The beach, the lagoon, Ipanema is a great loca...</td>\n",
       "      <td>...</td>\n",
       "      <td>NaN</td>\n",
       "      <td>NaN</td>\n",
       "      <td>NaN</td>\n",
       "      <td>NaN</td>\n",
       "      <td>NaN</td>\n",
       "      <td>NaN</td>\n",
       "      <td>NaN</td>\n",
       "      <td>NaN</td>\n",
       "      <td>NaN</td>\n",
       "      <td>NaN</td>\n",
       "    </tr>\n",
       "  </tbody>\n",
       "</table>\n",
       "<p>3 rows × 108 columns</p>\n",
       "</div>"
      ],
      "text/plain": [
       "      id                         listing_url       scrape_id last_scraped  \\\n",
       "0  14063  https://www.airbnb.com/rooms/14063  20180414160018   2018-04-14   \n",
       "1  17878  https://www.airbnb.com/rooms/17878  20180414160018   2018-04-14   \n",
       "2  24480  https://www.airbnb.com/rooms/24480  20180414160018   2018-04-14   \n",
       "\n",
       "                                name  \\\n",
       "0               Living in a Postcard   \n",
       "1  Very Nice 2Br - Copacabana - WiFi   \n",
       "2   Nice and cozy near Ipanema Beach   \n",
       "\n",
       "                                             summary  \\\n",
       "0  Besides the most iconic's view, our apartment ...   \n",
       "1  Please note that special rates apply for New Y...   \n",
       "2  My studio is located in the best  of Ipanema. ...   \n",
       "\n",
       "                                               space  \\\n",
       "0                                                NaN   \n",
       "1  - large balcony which looks out on pedestrian ...   \n",
       "2  The studio is located at Vinicius de Moraes St...   \n",
       "\n",
       "                                         description experiences_offered  \\\n",
       "0  Besides the most iconic's view, our apartment ...                none   \n",
       "1  Please note that special rates apply for New Y...                none   \n",
       "2  My studio is located in the best  of Ipanema. ...                none   \n",
       "\n",
       "                               neighborhood_overview  ...  \\\n",
       "0  Best and favorite neighborhood of Rio. Perfect...  ...   \n",
       "1  This is the best spot in Rio. Everything happe...  ...   \n",
       "2  The beach, the lagoon, Ipanema is a great loca...  ...   \n",
       "\n",
       "  minimum_minimum_nights maximum_minimum_nights minimum_maximum_nights  \\\n",
       "0                    NaN                    NaN                    NaN   \n",
       "1                    NaN                    NaN                    NaN   \n",
       "2                    NaN                    NaN                    NaN   \n",
       "\n",
       "  maximum_maximum_nights minimum_nights_avg_ntm  maximum_nights_avg_ntm  \\\n",
       "0                    NaN                    NaN                     NaN   \n",
       "1                    NaN                    NaN                     NaN   \n",
       "2                    NaN                    NaN                     NaN   \n",
       "\n",
       "   number_of_reviews_ltm calculated_host_listings_count_entire_homes  \\\n",
       "0                    NaN                                         NaN   \n",
       "1                    NaN                                         NaN   \n",
       "2                    NaN                                         NaN   \n",
       "\n",
       "   calculated_host_listings_count_private_rooms  \\\n",
       "0                                           NaN   \n",
       "1                                           NaN   \n",
       "2                                           NaN   \n",
       "\n",
       "   calculated_host_listings_count_shared_rooms  \n",
       "0                                          NaN  \n",
       "1                                          NaN  \n",
       "2                                          NaN  \n",
       "\n",
       "[3 rows x 108 columns]"
      ]
     },
     "execution_count": 2,
     "metadata": {},
     "output_type": "execute_result"
    }
   ],
   "source": [
    "caminho_bases = pathlib.Path('dataset')\n",
    "\n",
    "base_airbnb = pd.DataFrame()\n",
    "\n",
    "meses = {'jan': 1, 'fev': 2, 'mar': 3, 'abr': 4, 'mai': 5, 'jun': 6, 'jul': 7, 'ago': 8, 'set': 9, 'out': 10, 'nov': 11, 'dez': 12}\n",
    "\n",
    "for arquivo in caminho_bases.iterdir():\n",
    "    nome_mes = arquivo.name[:3]\n",
    "    mes = meses[nome_mes]\n",
    "    ano = int(arquivo.name[-8:-4])\n",
    "    \n",
    "    df = pd.read_csv(caminho_bases / arquivo.name)\n",
    "    df['ano'] = ano\n",
    "    df['mes'] = mes\n",
    "    base_airbnb = base_airbnb.append(df)\n",
    "    \n",
    "base_airbnb.head(3)"
   ]
  },
  {
   "cell_type": "code",
   "execution_count": 3,
   "metadata": {},
   "outputs": [
    {
     "data": {
      "text/plain": [
       "(902210, 108)"
      ]
     },
     "execution_count": 3,
     "metadata": {},
     "output_type": "execute_result"
    }
   ],
   "source": [
    "base_airbnb.shape"
   ]
  },
  {
   "cell_type": "markdown",
   "metadata": {},
   "source": [
    "#  <a name=\"secao_2\"> Seção 2 -Seleção de Colunas</a>\n",
    "[Voltar ao índice](#indice)"
   ]
  },
  {
   "cell_type": "markdown",
   "metadata": {},
   "source": [
    "### Identificando quais colunas podemos excluir"
   ]
  },
  {
   "cell_type": "markdown",
   "metadata": {},
   "source": [
    "- Como temos muitas colunas nosso modelo pode ficar muito lento.\n",
    "- Uma análise rápida permite verificar quais colunas não são necessárias para o nosso modelo.\n",
    "- Por isso, devemos excluir algmas colunas da nossa base.\n",
    "\n",
    "Tipos de colunas que vamos excluir:\n",
    "\n",
    "1. IDs, links e informações não relevantes para o modelo\n",
    "2. Colunas com informação repetidas ou extremamente parecidas. Ex. Datas vs Ano/Mês\n",
    "3. Colunas com texto livre, pois não rodaremos nenhuma análise de texto/palavras chave\n",
    "4. Colunas em que todos, ou quase todos, os valores são iguais\n"
   ]
  },
  {
   "cell_type": "markdown",
   "metadata": {},
   "source": [
    "#### Criando um arquivo .csv com as mil primeiras linhas para termos um arquivo leve para visualização no Excel."
   ]
  },
  {
   "cell_type": "code",
   "execution_count": 4,
   "metadata": {},
   "outputs": [],
   "source": [
    "base_airbnb.head(1000).to_csv('Primeiras_mil_linhas.csv', sep=';')"
   ]
  },
  {
   "cell_type": "code",
   "execution_count": 5,
   "metadata": {
    "scrolled": true
   },
   "outputs": [
    {
     "name": "stdout",
     "output_type": "stream",
     "text": [
      "['id', 'listing_url', 'scrape_id', 'last_scraped', 'name', 'summary', 'space', 'description', 'experiences_offered', 'neighborhood_overview', 'notes', 'transit', 'access', 'interaction', 'house_rules', 'thumbnail_url', 'medium_url', 'picture_url', 'xl_picture_url', 'host_id', 'host_url', 'host_name', 'host_since', 'host_location', 'host_about', 'host_response_time', 'host_response_rate', 'host_acceptance_rate', 'host_is_superhost', 'host_thumbnail_url', 'host_picture_url', 'host_neighbourhood', 'host_listings_count', 'host_total_listings_count', 'host_verifications', 'host_has_profile_pic', 'host_identity_verified', 'street', 'neighbourhood', 'neighbourhood_cleansed', 'neighbourhood_group_cleansed', 'city', 'state', 'zipcode', 'market', 'smart_location', 'country_code', 'country', 'latitude', 'longitude', 'is_location_exact', 'property_type', 'room_type', 'accommodates', 'bathrooms', 'bedrooms', 'beds', 'bed_type', 'amenities', 'square_feet', 'price', 'weekly_price', 'monthly_price', 'security_deposit', 'cleaning_fee', 'guests_included', 'extra_people', 'minimum_nights', 'maximum_nights', 'calendar_updated', 'has_availability', 'availability_30', 'availability_60', 'availability_90', 'availability_365', 'calendar_last_scraped', 'number_of_reviews', 'first_review', 'last_review', 'review_scores_rating', 'review_scores_accuracy', 'review_scores_cleanliness', 'review_scores_checkin', 'review_scores_communication', 'review_scores_location', 'review_scores_value', 'requires_license', 'license', 'jurisdiction_names', 'instant_bookable', 'is_business_travel_ready', 'cancellation_policy', 'require_guest_profile_picture', 'require_guest_phone_verification', 'calculated_host_listings_count', 'reviews_per_month', 'ano', 'mes', 'minimum_minimum_nights', 'maximum_minimum_nights', 'minimum_maximum_nights', 'maximum_maximum_nights', 'minimum_nights_avg_ntm', 'maximum_nights_avg_ntm', 'number_of_reviews_ltm', 'calculated_host_listings_count_entire_homes', 'calculated_host_listings_count_private_rooms', 'calculated_host_listings_count_shared_rooms']\n"
     ]
    }
   ],
   "source": [
    "print(list(base_airbnb.columns))"
   ]
  },
  {
   "cell_type": "markdown",
   "metadata": {},
   "source": [
    "#### Checando alguns pontos observados durante a visualização das primeiras mil linhas no Excel"
   ]
  },
  {
   "cell_type": "code",
   "execution_count": 6,
   "metadata": {
    "scrolled": true
   },
   "outputs": [
    {
     "data": {
      "text/plain": [
       "none    902210\n",
       "Name: experiences_offered, dtype: int64"
      ]
     },
     "execution_count": 6,
     "metadata": {},
     "output_type": "execute_result"
    }
   ],
   "source": [
    "base_airbnb['experiences_offered'].value_counts()"
   ]
  },
  {
   "cell_type": "code",
   "execution_count": 7,
   "metadata": {},
   "outputs": [
    {
     "data": {
      "text/plain": [
       "0    none\n",
       "Name: experiences_offered, dtype: object"
      ]
     },
     "execution_count": 7,
     "metadata": {},
     "output_type": "execute_result"
    }
   ],
   "source": [
    "base_airbnb['experiences_offered'].drop_duplicates()"
   ]
  },
  {
   "cell_type": "code",
   "execution_count": 8,
   "metadata": {},
   "outputs": [
    {
     "data": {
      "text/plain": [
       "True     901750\n",
       "False       460\n",
       "dtype: int64"
      ]
     },
     "execution_count": 8,
     "metadata": {},
     "output_type": "execute_result"
    }
   ],
   "source": [
    "(base_airbnb['host_listings_count'] == base_airbnb['host_total_listings_count']).value_counts()"
   ]
  },
  {
   "cell_type": "code",
   "execution_count": 9,
   "metadata": {},
   "outputs": [
    {
     "data": {
      "text/plain": [
       "888162"
      ]
     },
     "execution_count": 9,
     "metadata": {},
     "output_type": "execute_result"
    }
   ],
   "source": [
    "base_airbnb['square_feet'].isna().sum()"
   ]
  },
  {
   "cell_type": "markdown",
   "metadata": {},
   "source": [
    "### Depois da análise qualitativa feita (no excel), levando em consideração os critérios listados acima.\n",
    "### Ficamos com as seguintes colunas:"
   ]
  },
  {
   "cell_type": "code",
   "execution_count": 10,
   "metadata": {},
   "outputs": [],
   "source": [
    "colunas_selecionadas = ['host_response_time','host_response_rate','host_is_superhost','host_listings_count','latitude','longitude','property_type','room_type','accommodates','bathrooms','bedrooms','beds','bed_type','amenities','price','security_deposit','cleaning_fee','guests_included','extra_people','minimum_nights','maximum_nights','number_of_reviews','review_scores_rating','review_scores_accuracy','review_scores_cleanliness','review_scores_checkin','review_scores_communication','review_scores_location','review_scores_value','instant_bookable','is_business_travel_ready','cancellation_policy','ano','mes']"
   ]
  },
  {
   "cell_type": "markdown",
   "metadata": {},
   "source": [
    "### Criar um novo DataFrame (df1) somente com as colunas selecionadas"
   ]
  },
  {
   "cell_type": "code",
   "execution_count": 11,
   "metadata": {},
   "outputs": [
    {
     "name": "stdout",
     "output_type": "stream",
     "text": [
      "Colunas Selecionadas: ['id', 'listing_url', 'scrape_id', 'last_scraped', 'name', 'summary', 'space', 'description', 'experiences_offered', 'neighborhood_overview', 'notes', 'transit', 'access', 'interaction', 'house_rules', 'thumbnail_url', 'medium_url', 'picture_url', 'xl_picture_url', 'host_id', 'host_url', 'host_name', 'host_since', 'host_location', 'host_about', 'host_response_time', 'host_response_rate', 'host_acceptance_rate', 'host_is_superhost', 'host_thumbnail_url', 'host_picture_url', 'host_neighbourhood', 'host_listings_count', 'host_total_listings_count', 'host_verifications', 'host_has_profile_pic', 'host_identity_verified', 'street', 'neighbourhood', 'neighbourhood_cleansed', 'neighbourhood_group_cleansed', 'city', 'state', 'zipcode', 'market', 'smart_location', 'country_code', 'country', 'latitude', 'longitude', 'is_location_exact', 'property_type', 'room_type', 'accommodates', 'bathrooms', 'bedrooms', 'beds', 'bed_type', 'amenities', 'square_feet', 'price', 'weekly_price', 'monthly_price', 'security_deposit', 'cleaning_fee', 'guests_included', 'extra_people', 'minimum_nights', 'maximum_nights', 'calendar_updated', 'has_availability', 'availability_30', 'availability_60', 'availability_90', 'availability_365', 'calendar_last_scraped', 'number_of_reviews', 'first_review', 'last_review', 'review_scores_rating', 'review_scores_accuracy', 'review_scores_cleanliness', 'review_scores_checkin', 'review_scores_communication', 'review_scores_location', 'review_scores_value', 'requires_license', 'license', 'jurisdiction_names', 'instant_bookable', 'is_business_travel_ready', 'cancellation_policy', 'require_guest_profile_picture', 'require_guest_phone_verification', 'calculated_host_listings_count', 'reviews_per_month', 'ano', 'mes', 'minimum_minimum_nights', 'maximum_minimum_nights', 'minimum_maximum_nights', 'maximum_maximum_nights', 'minimum_nights_avg_ntm', 'maximum_nights_avg_ntm', 'number_of_reviews_ltm', 'calculated_host_listings_count_entire_homes', 'calculated_host_listings_count_private_rooms', 'calculated_host_listings_count_shared_rooms']\n"
     ]
    },
    {
     "data": {
      "text/html": [
       "<div>\n",
       "<style scoped>\n",
       "    .dataframe tbody tr th:only-of-type {\n",
       "        vertical-align: middle;\n",
       "    }\n",
       "\n",
       "    .dataframe tbody tr th {\n",
       "        vertical-align: top;\n",
       "    }\n",
       "\n",
       "    .dataframe thead th {\n",
       "        text-align: right;\n",
       "    }\n",
       "</style>\n",
       "<table border=\"1\" class=\"dataframe\">\n",
       "  <thead>\n",
       "    <tr style=\"text-align: right;\">\n",
       "      <th></th>\n",
       "      <th>host_response_time</th>\n",
       "      <th>host_response_rate</th>\n",
       "      <th>host_is_superhost</th>\n",
       "      <th>host_listings_count</th>\n",
       "      <th>latitude</th>\n",
       "      <th>longitude</th>\n",
       "      <th>property_type</th>\n",
       "      <th>room_type</th>\n",
       "      <th>accommodates</th>\n",
       "      <th>bathrooms</th>\n",
       "      <th>...</th>\n",
       "      <th>review_scores_cleanliness</th>\n",
       "      <th>review_scores_checkin</th>\n",
       "      <th>review_scores_communication</th>\n",
       "      <th>review_scores_location</th>\n",
       "      <th>review_scores_value</th>\n",
       "      <th>instant_bookable</th>\n",
       "      <th>is_business_travel_ready</th>\n",
       "      <th>cancellation_policy</th>\n",
       "      <th>ano</th>\n",
       "      <th>mes</th>\n",
       "    </tr>\n",
       "  </thead>\n",
       "  <tbody>\n",
       "    <tr>\n",
       "      <th>0</th>\n",
       "      <td>NaN</td>\n",
       "      <td>NaN</td>\n",
       "      <td>f</td>\n",
       "      <td>1.0</td>\n",
       "      <td>-22.946854</td>\n",
       "      <td>-43.182737</td>\n",
       "      <td>Apartment</td>\n",
       "      <td>Entire home/apt</td>\n",
       "      <td>4</td>\n",
       "      <td>1.0</td>\n",
       "      <td>...</td>\n",
       "      <td>9.0</td>\n",
       "      <td>9.0</td>\n",
       "      <td>9.0</td>\n",
       "      <td>9.0</td>\n",
       "      <td>9.0</td>\n",
       "      <td>f</td>\n",
       "      <td>f</td>\n",
       "      <td>strict_14_with_grace_period</td>\n",
       "      <td>2018</td>\n",
       "      <td>4</td>\n",
       "    </tr>\n",
       "    <tr>\n",
       "      <th>1</th>\n",
       "      <td>within an hour</td>\n",
       "      <td>100%</td>\n",
       "      <td>t</td>\n",
       "      <td>2.0</td>\n",
       "      <td>-22.965919</td>\n",
       "      <td>-43.178962</td>\n",
       "      <td>Condominium</td>\n",
       "      <td>Entire home/apt</td>\n",
       "      <td>5</td>\n",
       "      <td>1.0</td>\n",
       "      <td>...</td>\n",
       "      <td>9.0</td>\n",
       "      <td>10.0</td>\n",
       "      <td>10.0</td>\n",
       "      <td>9.0</td>\n",
       "      <td>9.0</td>\n",
       "      <td>t</td>\n",
       "      <td>f</td>\n",
       "      <td>strict</td>\n",
       "      <td>2018</td>\n",
       "      <td>4</td>\n",
       "    </tr>\n",
       "    <tr>\n",
       "      <th>2</th>\n",
       "      <td>within an hour</td>\n",
       "      <td>100%</td>\n",
       "      <td>f</td>\n",
       "      <td>1.0</td>\n",
       "      <td>-22.985698</td>\n",
       "      <td>-43.201935</td>\n",
       "      <td>Apartment</td>\n",
       "      <td>Entire home/apt</td>\n",
       "      <td>2</td>\n",
       "      <td>1.0</td>\n",
       "      <td>...</td>\n",
       "      <td>10.0</td>\n",
       "      <td>10.0</td>\n",
       "      <td>10.0</td>\n",
       "      <td>10.0</td>\n",
       "      <td>9.0</td>\n",
       "      <td>f</td>\n",
       "      <td>f</td>\n",
       "      <td>strict</td>\n",
       "      <td>2018</td>\n",
       "      <td>4</td>\n",
       "    </tr>\n",
       "    <tr>\n",
       "      <th>3</th>\n",
       "      <td>within an hour</td>\n",
       "      <td>100%</td>\n",
       "      <td>f</td>\n",
       "      <td>3.0</td>\n",
       "      <td>-22.977117</td>\n",
       "      <td>-43.190454</td>\n",
       "      <td>Apartment</td>\n",
       "      <td>Entire home/apt</td>\n",
       "      <td>3</td>\n",
       "      <td>1.0</td>\n",
       "      <td>...</td>\n",
       "      <td>10.0</td>\n",
       "      <td>10.0</td>\n",
       "      <td>10.0</td>\n",
       "      <td>10.0</td>\n",
       "      <td>9.0</td>\n",
       "      <td>f</td>\n",
       "      <td>f</td>\n",
       "      <td>strict</td>\n",
       "      <td>2018</td>\n",
       "      <td>4</td>\n",
       "    </tr>\n",
       "    <tr>\n",
       "      <th>4</th>\n",
       "      <td>within an hour</td>\n",
       "      <td>100%</td>\n",
       "      <td>t</td>\n",
       "      <td>1.0</td>\n",
       "      <td>-22.983024</td>\n",
       "      <td>-43.214270</td>\n",
       "      <td>Apartment</td>\n",
       "      <td>Entire home/apt</td>\n",
       "      <td>3</td>\n",
       "      <td>1.0</td>\n",
       "      <td>...</td>\n",
       "      <td>10.0</td>\n",
       "      <td>10.0</td>\n",
       "      <td>10.0</td>\n",
       "      <td>10.0</td>\n",
       "      <td>9.0</td>\n",
       "      <td>t</td>\n",
       "      <td>f</td>\n",
       "      <td>strict</td>\n",
       "      <td>2018</td>\n",
       "      <td>4</td>\n",
       "    </tr>\n",
       "    <tr>\n",
       "      <th>...</th>\n",
       "      <td>...</td>\n",
       "      <td>...</td>\n",
       "      <td>...</td>\n",
       "      <td>...</td>\n",
       "      <td>...</td>\n",
       "      <td>...</td>\n",
       "      <td>...</td>\n",
       "      <td>...</td>\n",
       "      <td>...</td>\n",
       "      <td>...</td>\n",
       "      <td>...</td>\n",
       "      <td>...</td>\n",
       "      <td>...</td>\n",
       "      <td>...</td>\n",
       "      <td>...</td>\n",
       "      <td>...</td>\n",
       "      <td>...</td>\n",
       "      <td>...</td>\n",
       "      <td>...</td>\n",
       "      <td>...</td>\n",
       "      <td>...</td>\n",
       "    </tr>\n",
       "    <tr>\n",
       "      <th>34324</th>\n",
       "      <td>within an hour</td>\n",
       "      <td>93%</td>\n",
       "      <td>f</td>\n",
       "      <td>0.0</td>\n",
       "      <td>-23.003180</td>\n",
       "      <td>-43.342840</td>\n",
       "      <td>Apartment</td>\n",
       "      <td>Entire home/apt</td>\n",
       "      <td>4</td>\n",
       "      <td>1.0</td>\n",
       "      <td>...</td>\n",
       "      <td>NaN</td>\n",
       "      <td>NaN</td>\n",
       "      <td>NaN</td>\n",
       "      <td>NaN</td>\n",
       "      <td>NaN</td>\n",
       "      <td>f</td>\n",
       "      <td>f</td>\n",
       "      <td>flexible</td>\n",
       "      <td>2019</td>\n",
       "      <td>9</td>\n",
       "    </tr>\n",
       "    <tr>\n",
       "      <th>34325</th>\n",
       "      <td>NaN</td>\n",
       "      <td>NaN</td>\n",
       "      <td>f</td>\n",
       "      <td>0.0</td>\n",
       "      <td>-22.966640</td>\n",
       "      <td>-43.393450</td>\n",
       "      <td>Apartment</td>\n",
       "      <td>Entire home/apt</td>\n",
       "      <td>4</td>\n",
       "      <td>2.0</td>\n",
       "      <td>...</td>\n",
       "      <td>NaN</td>\n",
       "      <td>NaN</td>\n",
       "      <td>NaN</td>\n",
       "      <td>NaN</td>\n",
       "      <td>NaN</td>\n",
       "      <td>f</td>\n",
       "      <td>f</td>\n",
       "      <td>flexible</td>\n",
       "      <td>2019</td>\n",
       "      <td>9</td>\n",
       "    </tr>\n",
       "    <tr>\n",
       "      <th>34326</th>\n",
       "      <td>within a few hours</td>\n",
       "      <td>74%</td>\n",
       "      <td>f</td>\n",
       "      <td>32.0</td>\n",
       "      <td>-22.962080</td>\n",
       "      <td>-43.175520</td>\n",
       "      <td>Apartment</td>\n",
       "      <td>Entire home/apt</td>\n",
       "      <td>5</td>\n",
       "      <td>1.0</td>\n",
       "      <td>...</td>\n",
       "      <td>NaN</td>\n",
       "      <td>NaN</td>\n",
       "      <td>NaN</td>\n",
       "      <td>NaN</td>\n",
       "      <td>NaN</td>\n",
       "      <td>f</td>\n",
       "      <td>f</td>\n",
       "      <td>strict_14_with_grace_period</td>\n",
       "      <td>2019</td>\n",
       "      <td>9</td>\n",
       "    </tr>\n",
       "    <tr>\n",
       "      <th>34327</th>\n",
       "      <td>NaN</td>\n",
       "      <td>NaN</td>\n",
       "      <td>f</td>\n",
       "      <td>0.0</td>\n",
       "      <td>-23.003400</td>\n",
       "      <td>-43.341820</td>\n",
       "      <td>Apartment</td>\n",
       "      <td>Entire home/apt</td>\n",
       "      <td>4</td>\n",
       "      <td>1.0</td>\n",
       "      <td>...</td>\n",
       "      <td>NaN</td>\n",
       "      <td>NaN</td>\n",
       "      <td>NaN</td>\n",
       "      <td>NaN</td>\n",
       "      <td>NaN</td>\n",
       "      <td>f</td>\n",
       "      <td>f</td>\n",
       "      <td>strict_14_with_grace_period</td>\n",
       "      <td>2019</td>\n",
       "      <td>9</td>\n",
       "    </tr>\n",
       "    <tr>\n",
       "      <th>34328</th>\n",
       "      <td>a few days or more</td>\n",
       "      <td>38%</td>\n",
       "      <td>f</td>\n",
       "      <td>5.0</td>\n",
       "      <td>-23.010560</td>\n",
       "      <td>-43.363350</td>\n",
       "      <td>Apartment</td>\n",
       "      <td>Private room</td>\n",
       "      <td>2</td>\n",
       "      <td>0.0</td>\n",
       "      <td>...</td>\n",
       "      <td>NaN</td>\n",
       "      <td>NaN</td>\n",
       "      <td>NaN</td>\n",
       "      <td>NaN</td>\n",
       "      <td>NaN</td>\n",
       "      <td>f</td>\n",
       "      <td>f</td>\n",
       "      <td>strict_14_with_grace_period</td>\n",
       "      <td>2019</td>\n",
       "      <td>9</td>\n",
       "    </tr>\n",
       "  </tbody>\n",
       "</table>\n",
       "<p>902210 rows × 34 columns</p>\n",
       "</div>"
      ],
      "text/plain": [
       "       host_response_time host_response_rate host_is_superhost  \\\n",
       "0                     NaN                NaN                 f   \n",
       "1          within an hour               100%                 t   \n",
       "2          within an hour               100%                 f   \n",
       "3          within an hour               100%                 f   \n",
       "4          within an hour               100%                 t   \n",
       "...                   ...                ...               ...   \n",
       "34324      within an hour                93%                 f   \n",
       "34325                 NaN                NaN                 f   \n",
       "34326  within a few hours                74%                 f   \n",
       "34327                 NaN                NaN                 f   \n",
       "34328  a few days or more                38%                 f   \n",
       "\n",
       "       host_listings_count   latitude  longitude property_type  \\\n",
       "0                      1.0 -22.946854 -43.182737     Apartment   \n",
       "1                      2.0 -22.965919 -43.178962   Condominium   \n",
       "2                      1.0 -22.985698 -43.201935     Apartment   \n",
       "3                      3.0 -22.977117 -43.190454     Apartment   \n",
       "4                      1.0 -22.983024 -43.214270     Apartment   \n",
       "...                    ...        ...        ...           ...   \n",
       "34324                  0.0 -23.003180 -43.342840     Apartment   \n",
       "34325                  0.0 -22.966640 -43.393450     Apartment   \n",
       "34326                 32.0 -22.962080 -43.175520     Apartment   \n",
       "34327                  0.0 -23.003400 -43.341820     Apartment   \n",
       "34328                  5.0 -23.010560 -43.363350     Apartment   \n",
       "\n",
       "             room_type  accommodates  bathrooms  ...  \\\n",
       "0      Entire home/apt             4        1.0  ...   \n",
       "1      Entire home/apt             5        1.0  ...   \n",
       "2      Entire home/apt             2        1.0  ...   \n",
       "3      Entire home/apt             3        1.0  ...   \n",
       "4      Entire home/apt             3        1.0  ...   \n",
       "...                ...           ...        ...  ...   \n",
       "34324  Entire home/apt             4        1.0  ...   \n",
       "34325  Entire home/apt             4        2.0  ...   \n",
       "34326  Entire home/apt             5        1.0  ...   \n",
       "34327  Entire home/apt             4        1.0  ...   \n",
       "34328     Private room             2        0.0  ...   \n",
       "\n",
       "       review_scores_cleanliness  review_scores_checkin  \\\n",
       "0                            9.0                    9.0   \n",
       "1                            9.0                   10.0   \n",
       "2                           10.0                   10.0   \n",
       "3                           10.0                   10.0   \n",
       "4                           10.0                   10.0   \n",
       "...                          ...                    ...   \n",
       "34324                        NaN                    NaN   \n",
       "34325                        NaN                    NaN   \n",
       "34326                        NaN                    NaN   \n",
       "34327                        NaN                    NaN   \n",
       "34328                        NaN                    NaN   \n",
       "\n",
       "      review_scores_communication review_scores_location review_scores_value  \\\n",
       "0                             9.0                    9.0                 9.0   \n",
       "1                            10.0                    9.0                 9.0   \n",
       "2                            10.0                   10.0                 9.0   \n",
       "3                            10.0                   10.0                 9.0   \n",
       "4                            10.0                   10.0                 9.0   \n",
       "...                           ...                    ...                 ...   \n",
       "34324                         NaN                    NaN                 NaN   \n",
       "34325                         NaN                    NaN                 NaN   \n",
       "34326                         NaN                    NaN                 NaN   \n",
       "34327                         NaN                    NaN                 NaN   \n",
       "34328                         NaN                    NaN                 NaN   \n",
       "\n",
       "      instant_bookable is_business_travel_ready          cancellation_policy  \\\n",
       "0                    f                        f  strict_14_with_grace_period   \n",
       "1                    t                        f                       strict   \n",
       "2                    f                        f                       strict   \n",
       "3                    f                        f                       strict   \n",
       "4                    t                        f                       strict   \n",
       "...                ...                      ...                          ...   \n",
       "34324                f                        f                     flexible   \n",
       "34325                f                        f                     flexible   \n",
       "34326                f                        f  strict_14_with_grace_period   \n",
       "34327                f                        f  strict_14_with_grace_period   \n",
       "34328                f                        f  strict_14_with_grace_period   \n",
       "\n",
       "        ano  mes  \n",
       "0      2018    4  \n",
       "1      2018    4  \n",
       "2      2018    4  \n",
       "3      2018    4  \n",
       "4      2018    4  \n",
       "...     ...  ...  \n",
       "34324  2019    9  \n",
       "34325  2019    9  \n",
       "34326  2019    9  \n",
       "34327  2019    9  \n",
       "34328  2019    9  \n",
       "\n",
       "[902210 rows x 34 columns]"
      ]
     },
     "metadata": {},
     "output_type": "display_data"
    }
   ],
   "source": [
    "df1 = base_airbnb[colunas_selecionadas]\n",
    "print('Colunas Selecionadas: {}'.format(list(base_airbnb.columns)))\n",
    "display(df1)"
   ]
  },
  {
   "cell_type": "markdown",
   "metadata": {},
   "source": [
    "#  <a name=\"secao_3\"> Seção 3 - Tratamento de Dados</a>\n",
    "[Voltar ao índice](#indice)"
   ]
  },
  {
   "cell_type": "markdown",
   "metadata": {},
   "source": [
    "##  <a name=\"secao_3.1\"> Seção 3.1 - Missing Values</a>"
   ]
  },
  {
   "cell_type": "markdown",
   "metadata": {},
   "source": [
    "### Tratar Valores Faltando"
   ]
  },
  {
   "cell_type": "code",
   "execution_count": 12,
   "metadata": {},
   "outputs": [
    {
     "data": {
      "text/plain": [
       "host_response_time             401843\n",
       "host_response_rate             401846\n",
       "host_is_superhost                 460\n",
       "host_listings_count               460\n",
       "latitude                            0\n",
       "longitude                           0\n",
       "property_type                       0\n",
       "room_type                           0\n",
       "accommodates                        0\n",
       "bathrooms                        1724\n",
       "bedrooms                          850\n",
       "beds                             2502\n",
       "bed_type                            0\n",
       "amenities                           0\n",
       "price                               0\n",
       "security_deposit               421280\n",
       "cleaning_fee                   313506\n",
       "guests_included                     0\n",
       "extra_people                        0\n",
       "minimum_nights                      0\n",
       "maximum_nights                      0\n",
       "number_of_reviews                   0\n",
       "review_scores_rating           448016\n",
       "review_scores_accuracy         448586\n",
       "review_scores_cleanliness      448413\n",
       "review_scores_checkin          448650\n",
       "review_scores_communication    448415\n",
       "review_scores_location         448553\n",
       "review_scores_value            448551\n",
       "instant_bookable                    0\n",
       "is_business_travel_ready            0\n",
       "cancellation_policy                 0\n",
       "ano                                 0\n",
       "mes                                 0\n",
       "dtype: int64"
      ]
     },
     "execution_count": 12,
     "metadata": {},
     "output_type": "execute_result"
    }
   ],
   "source": [
    "df1.isnull().sum()"
   ]
  },
  {
   "cell_type": "markdown",
   "metadata": {},
   "source": [
    "#### Como o número de linhas NaN é muito alto em algumas colunas, vamos excluir essas colunas, por não serem essenciais para o modelo\n",
    "#### Para isso, vamos criar um novo DF (df2) sem linhas NaN"
   ]
  },
  {
   "cell_type": "code",
   "execution_count": 13,
   "metadata": {},
   "outputs": [],
   "source": [
    "df2 = pd.DataFrame()\n",
    "for coluna in df1:\n",
    "    if df1[coluna].isna().sum() > 300000:\n",
    "        df1 = df1.drop(coluna, axis=1)"
   ]
  },
  {
   "cell_type": "code",
   "execution_count": 14,
   "metadata": {},
   "outputs": [
    {
     "data": {
      "text/plain": [
       "host_is_superhost            460\n",
       "host_listings_count          460\n",
       "latitude                       0\n",
       "longitude                      0\n",
       "property_type                  0\n",
       "room_type                      0\n",
       "accommodates                   0\n",
       "bathrooms                   1724\n",
       "bedrooms                     850\n",
       "beds                        2502\n",
       "bed_type                       0\n",
       "amenities                      0\n",
       "price                          0\n",
       "guests_included                0\n",
       "extra_people                   0\n",
       "minimum_nights                 0\n",
       "maximum_nights                 0\n",
       "number_of_reviews              0\n",
       "instant_bookable               0\n",
       "is_business_travel_ready       0\n",
       "cancellation_policy            0\n",
       "ano                            0\n",
       "mes                            0\n",
       "dtype: int64"
      ]
     },
     "execution_count": 14,
     "metadata": {},
     "output_type": "execute_result"
    }
   ],
   "source": [
    "df1.isnull().sum()"
   ]
  },
  {
   "cell_type": "code",
   "execution_count": 15,
   "metadata": {},
   "outputs": [
    {
     "data": {
      "text/plain": [
       "(902210, 23)"
      ]
     },
     "execution_count": 15,
     "metadata": {},
     "output_type": "execute_result"
    }
   ],
   "source": [
    "df1.shape"
   ]
  },
  {
   "cell_type": "code",
   "execution_count": 16,
   "metadata": {},
   "outputs": [
    {
     "data": {
      "text/plain": [
       "(897709, 23)"
      ]
     },
     "execution_count": 16,
     "metadata": {},
     "output_type": "execute_result"
    }
   ],
   "source": [
    "df2 = df1.dropna()\n",
    "df2.shape"
   ]
  },
  {
   "cell_type": "code",
   "execution_count": 17,
   "metadata": {},
   "outputs": [
    {
     "data": {
      "text/plain": [
       "host_is_superhost           0\n",
       "host_listings_count         0\n",
       "latitude                    0\n",
       "longitude                   0\n",
       "property_type               0\n",
       "room_type                   0\n",
       "accommodates                0\n",
       "bathrooms                   0\n",
       "bedrooms                    0\n",
       "beds                        0\n",
       "bed_type                    0\n",
       "amenities                   0\n",
       "price                       0\n",
       "guests_included             0\n",
       "extra_people                0\n",
       "minimum_nights              0\n",
       "maximum_nights              0\n",
       "number_of_reviews           0\n",
       "instant_bookable            0\n",
       "is_business_travel_ready    0\n",
       "cancellation_policy         0\n",
       "ano                         0\n",
       "mes                         0\n",
       "dtype: int64"
      ]
     },
     "execution_count": 17,
     "metadata": {},
     "output_type": "execute_result"
    }
   ],
   "source": [
    "df2.isnull().sum()"
   ]
  },
  {
   "cell_type": "markdown",
   "metadata": {},
   "source": [
    "##  <a name=\"secao_3.2\"> Seção 3.2 - Tipos de Dados</a>\n",
    "[Voltar ao índice](#indice)"
   ]
  },
  {
   "cell_type": "markdown",
   "metadata": {},
   "source": [
    "### Verificar Tipos de Dados em cada coluna"
   ]
  },
  {
   "cell_type": "code",
   "execution_count": 18,
   "metadata": {},
   "outputs": [
    {
     "name": "stdout",
     "output_type": "stream",
     "text": [
      "<class 'pandas.core.frame.DataFrame'>\n",
      "Int64Index: 897709 entries, 0 to 34328\n",
      "Data columns (total 23 columns):\n",
      " #   Column                    Non-Null Count   Dtype  \n",
      "---  ------                    --------------   -----  \n",
      " 0   host_is_superhost         897709 non-null  object \n",
      " 1   host_listings_count       897709 non-null  float64\n",
      " 2   latitude                  897709 non-null  float64\n",
      " 3   longitude                 897709 non-null  float64\n",
      " 4   property_type             897709 non-null  object \n",
      " 5   room_type                 897709 non-null  object \n",
      " 6   accommodates              897709 non-null  int64  \n",
      " 7   bathrooms                 897709 non-null  float64\n",
      " 8   bedrooms                  897709 non-null  float64\n",
      " 9   beds                      897709 non-null  float64\n",
      " 10  bed_type                  897709 non-null  object \n",
      " 11  amenities                 897709 non-null  object \n",
      " 12  price                     897709 non-null  object \n",
      " 13  guests_included           897709 non-null  int64  \n",
      " 14  extra_people              897709 non-null  object \n",
      " 15  minimum_nights            897709 non-null  int64  \n",
      " 16  maximum_nights            897709 non-null  int64  \n",
      " 17  number_of_reviews         897709 non-null  int64  \n",
      " 18  instant_bookable          897709 non-null  object \n",
      " 19  is_business_travel_ready  897709 non-null  object \n",
      " 20  cancellation_policy       897709 non-null  object \n",
      " 21  ano                       897709 non-null  int64  \n",
      " 22  mes                       897709 non-null  int64  \n",
      "dtypes: float64(6), int64(7), object(10)\n",
      "memory usage: 164.4+ MB\n"
     ]
    }
   ],
   "source": [
    "df2.info()"
   ]
  },
  {
   "cell_type": "code",
   "execution_count": 19,
   "metadata": {},
   "outputs": [
    {
     "data": {
      "text/html": [
       "<div>\n",
       "<style scoped>\n",
       "    .dataframe tbody tr th:only-of-type {\n",
       "        vertical-align: middle;\n",
       "    }\n",
       "\n",
       "    .dataframe tbody tr th {\n",
       "        vertical-align: top;\n",
       "    }\n",
       "\n",
       "    .dataframe thead th {\n",
       "        text-align: right;\n",
       "    }\n",
       "</style>\n",
       "<table border=\"1\" class=\"dataframe\">\n",
       "  <thead>\n",
       "    <tr style=\"text-align: right;\">\n",
       "      <th></th>\n",
       "      <th>3290</th>\n",
       "    </tr>\n",
       "  </thead>\n",
       "  <tbody>\n",
       "    <tr>\n",
       "      <th>host_is_superhost</th>\n",
       "      <td>f</td>\n",
       "    </tr>\n",
       "    <tr>\n",
       "      <th>host_listings_count</th>\n",
       "      <td>3.0</td>\n",
       "    </tr>\n",
       "    <tr>\n",
       "      <th>latitude</th>\n",
       "      <td>-23.070562</td>\n",
       "    </tr>\n",
       "    <tr>\n",
       "      <th>longitude</th>\n",
       "      <td>-43.566444</td>\n",
       "    </tr>\n",
       "    <tr>\n",
       "      <th>property_type</th>\n",
       "      <td>Bed and breakfast</td>\n",
       "    </tr>\n",
       "    <tr>\n",
       "      <th>room_type</th>\n",
       "      <td>Private room</td>\n",
       "    </tr>\n",
       "    <tr>\n",
       "      <th>accommodates</th>\n",
       "      <td>2</td>\n",
       "    </tr>\n",
       "    <tr>\n",
       "      <th>bathrooms</th>\n",
       "      <td>1.0</td>\n",
       "    </tr>\n",
       "    <tr>\n",
       "      <th>bedrooms</th>\n",
       "      <td>1.0</td>\n",
       "    </tr>\n",
       "    <tr>\n",
       "      <th>beds</th>\n",
       "      <td>1.0</td>\n",
       "    </tr>\n",
       "    <tr>\n",
       "      <th>bed_type</th>\n",
       "      <td>Real Bed</td>\n",
       "    </tr>\n",
       "    <tr>\n",
       "      <th>amenities</th>\n",
       "      <td>{Wifi,\"Air conditioning\",Pool,\"Paid parking of...</td>\n",
       "    </tr>\n",
       "    <tr>\n",
       "      <th>price</th>\n",
       "      <td>$201.00</td>\n",
       "    </tr>\n",
       "    <tr>\n",
       "      <th>guests_included</th>\n",
       "      <td>1</td>\n",
       "    </tr>\n",
       "    <tr>\n",
       "      <th>extra_people</th>\n",
       "      <td>$0.00</td>\n",
       "    </tr>\n",
       "    <tr>\n",
       "      <th>minimum_nights</th>\n",
       "      <td>1</td>\n",
       "    </tr>\n",
       "    <tr>\n",
       "      <th>maximum_nights</th>\n",
       "      <td>1125</td>\n",
       "    </tr>\n",
       "    <tr>\n",
       "      <th>number_of_reviews</th>\n",
       "      <td>6</td>\n",
       "    </tr>\n",
       "    <tr>\n",
       "      <th>instant_bookable</th>\n",
       "      <td>f</td>\n",
       "    </tr>\n",
       "    <tr>\n",
       "      <th>is_business_travel_ready</th>\n",
       "      <td>f</td>\n",
       "    </tr>\n",
       "    <tr>\n",
       "      <th>cancellation_policy</th>\n",
       "      <td>strict_14_with_grace_period</td>\n",
       "    </tr>\n",
       "    <tr>\n",
       "      <th>ano</th>\n",
       "      <td>2018</td>\n",
       "    </tr>\n",
       "    <tr>\n",
       "      <th>mes</th>\n",
       "      <td>7</td>\n",
       "    </tr>\n",
       "  </tbody>\n",
       "</table>\n",
       "</div>"
      ],
      "text/plain": [
       "                                                                       3290\n",
       "host_is_superhost                                                         f\n",
       "host_listings_count                                                     3.0\n",
       "latitude                                                         -23.070562\n",
       "longitude                                                        -43.566444\n",
       "property_type                                             Bed and breakfast\n",
       "room_type                                                      Private room\n",
       "accommodates                                                              2\n",
       "bathrooms                                                               1.0\n",
       "bedrooms                                                                1.0\n",
       "beds                                                                    1.0\n",
       "bed_type                                                           Real Bed\n",
       "amenities                 {Wifi,\"Air conditioning\",Pool,\"Paid parking of...\n",
       "price                                                               $201.00\n",
       "guests_included                                                           1\n",
       "extra_people                                                          $0.00\n",
       "minimum_nights                                                            1\n",
       "maximum_nights                                                         1125\n",
       "number_of_reviews                                                         6\n",
       "instant_bookable                                                          f\n",
       "is_business_travel_ready                                                  f\n",
       "cancellation_policy                             strict_14_with_grace_period\n",
       "ano                                                                    2018\n",
       "mes                                                                       7"
      ]
     },
     "execution_count": 19,
     "metadata": {},
     "output_type": "execute_result"
    }
   ],
   "source": [
    "df2.sample().T"
   ]
  },
  {
   "cell_type": "markdown",
   "metadata": {},
   "source": [
    "#### Como as colunas \"price\" e \"extra people\" estão como objeto, temos que passá-las para float (32 - para ocupar menos espaço)"
   ]
  },
  {
   "cell_type": "code",
   "execution_count": 20,
   "metadata": {},
   "outputs": [
    {
     "name": "stderr",
     "output_type": "stream",
     "text": [
      "<ipython-input-20-a6eceab1ffcb>:2: FutureWarning: The default value of regex will change from True to False in a future version. In addition, single character regular expressions will*not* be treated as literal strings when regex=True.\n",
      "  df2['price'] = df2['price'].str.replace('$', '')\n",
      "<ipython-input-20-a6eceab1ffcb>:2: SettingWithCopyWarning: \n",
      "A value is trying to be set on a copy of a slice from a DataFrame.\n",
      "Try using .loc[row_indexer,col_indexer] = value instead\n",
      "\n",
      "See the caveats in the documentation: https://pandas.pydata.org/pandas-docs/stable/user_guide/indexing.html#returning-a-view-versus-a-copy\n",
      "  df2['price'] = df2['price'].str.replace('$', '')\n",
      "<ipython-input-20-a6eceab1ffcb>:3: SettingWithCopyWarning: \n",
      "A value is trying to be set on a copy of a slice from a DataFrame.\n",
      "Try using .loc[row_indexer,col_indexer] = value instead\n",
      "\n",
      "See the caveats in the documentation: https://pandas.pydata.org/pandas-docs/stable/user_guide/indexing.html#returning-a-view-versus-a-copy\n",
      "  df2['price'] = df2['price'].str.replace(',', '')\n",
      "<ipython-input-20-a6eceab1ffcb>:4: SettingWithCopyWarning: \n",
      "A value is trying to be set on a copy of a slice from a DataFrame.\n",
      "Try using .loc[row_indexer,col_indexer] = value instead\n",
      "\n",
      "See the caveats in the documentation: https://pandas.pydata.org/pandas-docs/stable/user_guide/indexing.html#returning-a-view-versus-a-copy\n",
      "  df2['price'] = df2['price'].astype(np.float32, copy=False)\n",
      "<ipython-input-20-a6eceab1ffcb>:7: FutureWarning: The default value of regex will change from True to False in a future version. In addition, single character regular expressions will*not* be treated as literal strings when regex=True.\n",
      "  df2['extra_people'] = df2['extra_people'].str.replace('$', '')\n",
      "<ipython-input-20-a6eceab1ffcb>:7: SettingWithCopyWarning: \n",
      "A value is trying to be set on a copy of a slice from a DataFrame.\n",
      "Try using .loc[row_indexer,col_indexer] = value instead\n",
      "\n",
      "See the caveats in the documentation: https://pandas.pydata.org/pandas-docs/stable/user_guide/indexing.html#returning-a-view-versus-a-copy\n",
      "  df2['extra_people'] = df2['extra_people'].str.replace('$', '')\n",
      "<ipython-input-20-a6eceab1ffcb>:8: SettingWithCopyWarning: \n",
      "A value is trying to be set on a copy of a slice from a DataFrame.\n",
      "Try using .loc[row_indexer,col_indexer] = value instead\n",
      "\n",
      "See the caveats in the documentation: https://pandas.pydata.org/pandas-docs/stable/user_guide/indexing.html#returning-a-view-versus-a-copy\n",
      "  df2['extra_people'] = df2['extra_people'].str.replace(',', '')\n",
      "<ipython-input-20-a6eceab1ffcb>:9: SettingWithCopyWarning: \n",
      "A value is trying to be set on a copy of a slice from a DataFrame.\n",
      "Try using .loc[row_indexer,col_indexer] = value instead\n",
      "\n",
      "See the caveats in the documentation: https://pandas.pydata.org/pandas-docs/stable/user_guide/indexing.html#returning-a-view-versus-a-copy\n",
      "  df2['extra_people'] = df2['extra_people'].astype(np.float32, copy=False)\n"
     ]
    }
   ],
   "source": [
    "# Price\n",
    "df2['price'] = df2['price'].str.replace('$', '')\n",
    "df2['price'] = df2['price'].str.replace(',', '')\n",
    "df2['price'] = df2['price'].astype(np.float32, copy=False)\n",
    "\n",
    "# Extra People\n",
    "df2['extra_people'] = df2['extra_people'].str.replace('$', '')\n",
    "df2['extra_people'] = df2['extra_people'].str.replace(',', '')\n",
    "df2['extra_people'] = df2['extra_people'].astype(np.float32, copy=False)"
   ]
  },
  {
   "cell_type": "code",
   "execution_count": 21,
   "metadata": {},
   "outputs": [
    {
     "data": {
      "text/plain": [
       "host_is_superhost            object\n",
       "host_listings_count         float64\n",
       "latitude                    float64\n",
       "longitude                   float64\n",
       "property_type                object\n",
       "room_type                    object\n",
       "accommodates                  int64\n",
       "bathrooms                   float64\n",
       "bedrooms                    float64\n",
       "beds                        float64\n",
       "bed_type                     object\n",
       "amenities                    object\n",
       "price                       float32\n",
       "guests_included               int64\n",
       "extra_people                float32\n",
       "minimum_nights                int64\n",
       "maximum_nights                int64\n",
       "number_of_reviews             int64\n",
       "instant_bookable             object\n",
       "is_business_travel_ready     object\n",
       "cancellation_policy          object\n",
       "ano                           int64\n",
       "mes                           int64\n",
       "dtype: object"
      ]
     },
     "execution_count": 21,
     "metadata": {},
     "output_type": "execute_result"
    }
   ],
   "source": [
    "df2.dtypes"
   ]
  },
  {
   "cell_type": "markdown",
   "metadata": {},
   "source": [
    "###  <a name=\"checkpoint_1\"> Checkpoint 1 - df2 </a>"
   ]
  },
  {
   "cell_type": "code",
   "execution_count": 22,
   "metadata": {},
   "outputs": [],
   "source": [
    "df2.to_parquet('df2.parquet')"
   ]
  },
  {
   "cell_type": "markdown",
   "metadata": {},
   "source": [
    " Para tornar o processo mais rápido (leve), podemos iniciar, a partir desse ponto, importando o arquivo df2.parquet:"
   ]
  },
  {
   "cell_type": "code",
   "execution_count": 23,
   "metadata": {},
   "outputs": [],
   "source": [
    "df2 = pd.read_parquet('df2.parquet')"
   ]
  },
  {
   "cell_type": "markdown",
   "metadata": {},
   "source": [
    "#  <a name=\"secao_4\"> Seção 4 - Visualização de Dados</a>\n",
    "[Voltar ao índice](#indice)"
   ]
  },
  {
   "cell_type": "markdown",
   "metadata": {},
   "source": [
    "### Visualizando os dados após seleção inicial das colunas e tratamento de valores nulos "
   ]
  },
  {
   "cell_type": "code",
   "execution_count": 24,
   "metadata": {},
   "outputs": [
    {
     "name": "stdout",
     "output_type": "stream",
     "text": [
      "<class 'pandas.core.frame.DataFrame'>\n",
      "Int64Index: 897709 entries, 0 to 34328\n",
      "Data columns (total 23 columns):\n",
      " #   Column                    Non-Null Count   Dtype  \n",
      "---  ------                    --------------   -----  \n",
      " 0   host_is_superhost         897709 non-null  object \n",
      " 1   host_listings_count       897709 non-null  float64\n",
      " 2   latitude                  897709 non-null  float64\n",
      " 3   longitude                 897709 non-null  float64\n",
      " 4   property_type             897709 non-null  object \n",
      " 5   room_type                 897709 non-null  object \n",
      " 6   accommodates              897709 non-null  int64  \n",
      " 7   bathrooms                 897709 non-null  float64\n",
      " 8   bedrooms                  897709 non-null  float64\n",
      " 9   beds                      897709 non-null  float64\n",
      " 10  bed_type                  897709 non-null  object \n",
      " 11  amenities                 897709 non-null  object \n",
      " 12  price                     897709 non-null  float32\n",
      " 13  guests_included           897709 non-null  int64  \n",
      " 14  extra_people              897709 non-null  float32\n",
      " 15  minimum_nights            897709 non-null  int64  \n",
      " 16  maximum_nights            897709 non-null  int64  \n",
      " 17  number_of_reviews         897709 non-null  int64  \n",
      " 18  instant_bookable          897709 non-null  object \n",
      " 19  is_business_travel_ready  897709 non-null  object \n",
      " 20  cancellation_policy       897709 non-null  object \n",
      " 21  ano                       897709 non-null  int64  \n",
      " 22  mes                       897709 non-null  int64  \n",
      "dtypes: float32(2), float64(6), int64(7), object(8)\n",
      "memory usage: 157.5+ MB\n"
     ]
    }
   ],
   "source": [
    "df2.info()"
   ]
  },
  {
   "cell_type": "code",
   "execution_count": 25,
   "metadata": {},
   "outputs": [
    {
     "data": {
      "text/html": [
       "<div>\n",
       "<style scoped>\n",
       "    .dataframe tbody tr th:only-of-type {\n",
       "        vertical-align: middle;\n",
       "    }\n",
       "\n",
       "    .dataframe tbody tr th {\n",
       "        vertical-align: top;\n",
       "    }\n",
       "\n",
       "    .dataframe thead th {\n",
       "        text-align: right;\n",
       "    }\n",
       "</style>\n",
       "<table border=\"1\" class=\"dataframe\">\n",
       "  <thead>\n",
       "    <tr style=\"text-align: right;\">\n",
       "      <th></th>\n",
       "      <th>host_listings_count</th>\n",
       "      <th>latitude</th>\n",
       "      <th>longitude</th>\n",
       "      <th>accommodates</th>\n",
       "      <th>bathrooms</th>\n",
       "      <th>bedrooms</th>\n",
       "      <th>beds</th>\n",
       "      <th>price</th>\n",
       "      <th>guests_included</th>\n",
       "      <th>extra_people</th>\n",
       "      <th>minimum_nights</th>\n",
       "      <th>maximum_nights</th>\n",
       "      <th>number_of_reviews</th>\n",
       "      <th>ano</th>\n",
       "      <th>mes</th>\n",
       "    </tr>\n",
       "  </thead>\n",
       "  <tbody>\n",
       "    <tr>\n",
       "      <th>count</th>\n",
       "      <td>897709.000000</td>\n",
       "      <td>897709.000000</td>\n",
       "      <td>897709.000000</td>\n",
       "      <td>897709.000000</td>\n",
       "      <td>897709.000000</td>\n",
       "      <td>897709.000000</td>\n",
       "      <td>897709.000000</td>\n",
       "      <td>897709.000000</td>\n",
       "      <td>897709.000000</td>\n",
       "      <td>897709.000000</td>\n",
       "      <td>897709.000000</td>\n",
       "      <td>8.977090e+05</td>\n",
       "      <td>897709.000000</td>\n",
       "      <td>897709.000000</td>\n",
       "      <td>897709.000000</td>\n",
       "    </tr>\n",
       "    <tr>\n",
       "      <th>mean</th>\n",
       "      <td>8.540508</td>\n",
       "      <td>-22.965346</td>\n",
       "      <td>-43.253856</td>\n",
       "      <td>4.211794</td>\n",
       "      <td>1.695061</td>\n",
       "      <td>1.645698</td>\n",
       "      <td>2.601979</td>\n",
       "      <td>648.062195</td>\n",
       "      <td>1.677594</td>\n",
       "      <td>40.156227</td>\n",
       "      <td>4.559410</td>\n",
       "      <td>4.182215e+04</td>\n",
       "      <td>7.730099</td>\n",
       "      <td>2018.862824</td>\n",
       "      <td>6.326888</td>\n",
       "    </tr>\n",
       "    <tr>\n",
       "      <th>std</th>\n",
       "      <td>47.083956</td>\n",
       "      <td>0.034776</td>\n",
       "      <td>0.097373</td>\n",
       "      <td>2.613927</td>\n",
       "      <td>1.197992</td>\n",
       "      <td>1.078560</td>\n",
       "      <td>2.069426</td>\n",
       "      <td>1705.104980</td>\n",
       "      <td>1.529591</td>\n",
       "      <td>98.383331</td>\n",
       "      <td>20.889129</td>\n",
       "      <td>7.321626e+06</td>\n",
       "      <td>21.819157</td>\n",
       "      <td>0.716148</td>\n",
       "      <td>3.398323</td>\n",
       "    </tr>\n",
       "    <tr>\n",
       "      <th>min</th>\n",
       "      <td>0.000000</td>\n",
       "      <td>-23.073400</td>\n",
       "      <td>-43.738920</td>\n",
       "      <td>1.000000</td>\n",
       "      <td>0.000000</td>\n",
       "      <td>0.000000</td>\n",
       "      <td>0.000000</td>\n",
       "      <td>0.000000</td>\n",
       "      <td>1.000000</td>\n",
       "      <td>0.000000</td>\n",
       "      <td>1.000000</td>\n",
       "      <td>1.000000e+00</td>\n",
       "      <td>0.000000</td>\n",
       "      <td>2018.000000</td>\n",
       "      <td>1.000000</td>\n",
       "    </tr>\n",
       "    <tr>\n",
       "      <th>25%</th>\n",
       "      <td>1.000000</td>\n",
       "      <td>-22.984690</td>\n",
       "      <td>-43.322560</td>\n",
       "      <td>2.000000</td>\n",
       "      <td>1.000000</td>\n",
       "      <td>1.000000</td>\n",
       "      <td>1.000000</td>\n",
       "      <td>151.000000</td>\n",
       "      <td>1.000000</td>\n",
       "      <td>0.000000</td>\n",
       "      <td>1.000000</td>\n",
       "      <td>3.000000e+01</td>\n",
       "      <td>0.000000</td>\n",
       "      <td>2018.000000</td>\n",
       "      <td>4.000000</td>\n",
       "    </tr>\n",
       "    <tr>\n",
       "      <th>50%</th>\n",
       "      <td>1.000000</td>\n",
       "      <td>-22.970675</td>\n",
       "      <td>-43.200070</td>\n",
       "      <td>4.000000</td>\n",
       "      <td>1.000000</td>\n",
       "      <td>1.000000</td>\n",
       "      <td>2.000000</td>\n",
       "      <td>297.000000</td>\n",
       "      <td>1.000000</td>\n",
       "      <td>0.000000</td>\n",
       "      <td>2.000000</td>\n",
       "      <td>1.125000e+03</td>\n",
       "      <td>1.000000</td>\n",
       "      <td>2019.000000</td>\n",
       "      <td>6.000000</td>\n",
       "    </tr>\n",
       "    <tr>\n",
       "      <th>75%</th>\n",
       "      <td>3.000000</td>\n",
       "      <td>-22.946080</td>\n",
       "      <td>-43.186930</td>\n",
       "      <td>6.000000</td>\n",
       "      <td>2.000000</td>\n",
       "      <td>2.000000</td>\n",
       "      <td>3.000000</td>\n",
       "      <td>601.000000</td>\n",
       "      <td>2.000000</td>\n",
       "      <td>50.000000</td>\n",
       "      <td>4.000000</td>\n",
       "      <td>1.125000e+03</td>\n",
       "      <td>4.000000</td>\n",
       "      <td>2019.000000</td>\n",
       "      <td>9.000000</td>\n",
       "    </tr>\n",
       "    <tr>\n",
       "      <th>max</th>\n",
       "      <td>1495.000000</td>\n",
       "      <td>-22.748953</td>\n",
       "      <td>-43.103709</td>\n",
       "      <td>160.000000</td>\n",
       "      <td>200.000000</td>\n",
       "      <td>45.000000</td>\n",
       "      <td>86.000000</td>\n",
       "      <td>138288.000000</td>\n",
       "      <td>36.000000</td>\n",
       "      <td>5631.000000</td>\n",
       "      <td>1224.000000</td>\n",
       "      <td>2.147484e+09</td>\n",
       "      <td>401.000000</td>\n",
       "      <td>2020.000000</td>\n",
       "      <td>12.000000</td>\n",
       "    </tr>\n",
       "  </tbody>\n",
       "</table>\n",
       "</div>"
      ],
      "text/plain": [
       "       host_listings_count       latitude      longitude   accommodates  \\\n",
       "count        897709.000000  897709.000000  897709.000000  897709.000000   \n",
       "mean              8.540508     -22.965346     -43.253856       4.211794   \n",
       "std              47.083956       0.034776       0.097373       2.613927   \n",
       "min               0.000000     -23.073400     -43.738920       1.000000   \n",
       "25%               1.000000     -22.984690     -43.322560       2.000000   \n",
       "50%               1.000000     -22.970675     -43.200070       4.000000   \n",
       "75%               3.000000     -22.946080     -43.186930       6.000000   \n",
       "max            1495.000000     -22.748953     -43.103709     160.000000   \n",
       "\n",
       "           bathrooms       bedrooms           beds          price  \\\n",
       "count  897709.000000  897709.000000  897709.000000  897709.000000   \n",
       "mean        1.695061       1.645698       2.601979     648.062195   \n",
       "std         1.197992       1.078560       2.069426    1705.104980   \n",
       "min         0.000000       0.000000       0.000000       0.000000   \n",
       "25%         1.000000       1.000000       1.000000     151.000000   \n",
       "50%         1.000000       1.000000       2.000000     297.000000   \n",
       "75%         2.000000       2.000000       3.000000     601.000000   \n",
       "max       200.000000      45.000000      86.000000  138288.000000   \n",
       "\n",
       "       guests_included   extra_people  minimum_nights  maximum_nights  \\\n",
       "count    897709.000000  897709.000000   897709.000000    8.977090e+05   \n",
       "mean          1.677594      40.156227        4.559410    4.182215e+04   \n",
       "std           1.529591      98.383331       20.889129    7.321626e+06   \n",
       "min           1.000000       0.000000        1.000000    1.000000e+00   \n",
       "25%           1.000000       0.000000        1.000000    3.000000e+01   \n",
       "50%           1.000000       0.000000        2.000000    1.125000e+03   \n",
       "75%           2.000000      50.000000        4.000000    1.125000e+03   \n",
       "max          36.000000    5631.000000     1224.000000    2.147484e+09   \n",
       "\n",
       "       number_of_reviews            ano            mes  \n",
       "count      897709.000000  897709.000000  897709.000000  \n",
       "mean            7.730099    2018.862824       6.326888  \n",
       "std            21.819157       0.716148       3.398323  \n",
       "min             0.000000    2018.000000       1.000000  \n",
       "25%             0.000000    2018.000000       4.000000  \n",
       "50%             1.000000    2019.000000       6.000000  \n",
       "75%             4.000000    2019.000000       9.000000  \n",
       "max           401.000000    2020.000000      12.000000  "
      ]
     },
     "execution_count": 25,
     "metadata": {},
     "output_type": "execute_result"
    }
   ],
   "source": [
    "df2.describe()"
   ]
  },
  {
   "cell_type": "markdown",
   "metadata": {},
   "source": [
    "### Correlação entre as variáveis (features)"
   ]
  },
  {
   "cell_type": "code",
   "execution_count": 26,
   "metadata": {},
   "outputs": [
    {
     "data": {
      "text/html": [
       "<div>\n",
       "<style scoped>\n",
       "    .dataframe tbody tr th:only-of-type {\n",
       "        vertical-align: middle;\n",
       "    }\n",
       "\n",
       "    .dataframe tbody tr th {\n",
       "        vertical-align: top;\n",
       "    }\n",
       "\n",
       "    .dataframe thead th {\n",
       "        text-align: right;\n",
       "    }\n",
       "</style>\n",
       "<table border=\"1\" class=\"dataframe\">\n",
       "  <thead>\n",
       "    <tr style=\"text-align: right;\">\n",
       "      <th></th>\n",
       "      <th>host_listings_count</th>\n",
       "      <th>latitude</th>\n",
       "      <th>longitude</th>\n",
       "      <th>accommodates</th>\n",
       "      <th>bathrooms</th>\n",
       "      <th>bedrooms</th>\n",
       "      <th>beds</th>\n",
       "      <th>price</th>\n",
       "      <th>guests_included</th>\n",
       "      <th>extra_people</th>\n",
       "      <th>minimum_nights</th>\n",
       "      <th>maximum_nights</th>\n",
       "      <th>number_of_reviews</th>\n",
       "      <th>ano</th>\n",
       "      <th>mes</th>\n",
       "    </tr>\n",
       "  </thead>\n",
       "  <tbody>\n",
       "    <tr>\n",
       "      <th>host_listings_count</th>\n",
       "      <td>1.000000</td>\n",
       "      <td>-0.034115</td>\n",
       "      <td>0.063635</td>\n",
       "      <td>0.069320</td>\n",
       "      <td>0.022332</td>\n",
       "      <td>0.039712</td>\n",
       "      <td>0.042788</td>\n",
       "      <td>0.092306</td>\n",
       "      <td>0.041932</td>\n",
       "      <td>-0.031589</td>\n",
       "      <td>-0.006441</td>\n",
       "      <td>-0.000100</td>\n",
       "      <td>-0.025974</td>\n",
       "      <td>0.031802</td>\n",
       "      <td>-0.009584</td>\n",
       "    </tr>\n",
       "    <tr>\n",
       "      <th>latitude</th>\n",
       "      <td>-0.034115</td>\n",
       "      <td>1.000000</td>\n",
       "      <td>0.370416</td>\n",
       "      <td>-0.142082</td>\n",
       "      <td>-0.169135</td>\n",
       "      <td>-0.165050</td>\n",
       "      <td>-0.113931</td>\n",
       "      <td>-0.092437</td>\n",
       "      <td>-0.091123</td>\n",
       "      <td>-0.041113</td>\n",
       "      <td>-0.016090</td>\n",
       "      <td>-0.001386</td>\n",
       "      <td>-0.046044</td>\n",
       "      <td>0.002595</td>\n",
       "      <td>0.002358</td>\n",
       "    </tr>\n",
       "    <tr>\n",
       "      <th>longitude</th>\n",
       "      <td>0.063635</td>\n",
       "      <td>0.370416</td>\n",
       "      <td>1.000000</td>\n",
       "      <td>-0.121746</td>\n",
       "      <td>-0.170504</td>\n",
       "      <td>-0.186332</td>\n",
       "      <td>-0.110392</td>\n",
       "      <td>-0.085526</td>\n",
       "      <td>0.049375</td>\n",
       "      <td>0.001723</td>\n",
       "      <td>-0.019213</td>\n",
       "      <td>0.003403</td>\n",
       "      <td>0.135377</td>\n",
       "      <td>0.012589</td>\n",
       "      <td>-0.007981</td>\n",
       "    </tr>\n",
       "    <tr>\n",
       "      <th>accommodates</th>\n",
       "      <td>0.069320</td>\n",
       "      <td>-0.142082</td>\n",
       "      <td>-0.121746</td>\n",
       "      <td>1.000000</td>\n",
       "      <td>0.521909</td>\n",
       "      <td>0.675913</td>\n",
       "      <td>0.692740</td>\n",
       "      <td>0.269929</td>\n",
       "      <td>0.317563</td>\n",
       "      <td>0.078709</td>\n",
       "      <td>0.024583</td>\n",
       "      <td>-0.004242</td>\n",
       "      <td>-0.029873</td>\n",
       "      <td>-0.000808</td>\n",
       "      <td>-0.003446</td>\n",
       "    </tr>\n",
       "    <tr>\n",
       "      <th>bathrooms</th>\n",
       "      <td>0.022332</td>\n",
       "      <td>-0.169135</td>\n",
       "      <td>-0.170504</td>\n",
       "      <td>0.521909</td>\n",
       "      <td>1.000000</td>\n",
       "      <td>0.631544</td>\n",
       "      <td>0.491525</td>\n",
       "      <td>0.310847</td>\n",
       "      <td>0.171695</td>\n",
       "      <td>0.077831</td>\n",
       "      <td>0.035884</td>\n",
       "      <td>-0.000780</td>\n",
       "      <td>-0.069505</td>\n",
       "      <td>-0.009636</td>\n",
       "      <td>0.003829</td>\n",
       "    </tr>\n",
       "    <tr>\n",
       "      <th>bedrooms</th>\n",
       "      <td>0.039712</td>\n",
       "      <td>-0.165050</td>\n",
       "      <td>-0.186332</td>\n",
       "      <td>0.675913</td>\n",
       "      <td>0.631544</td>\n",
       "      <td>1.000000</td>\n",
       "      <td>0.625313</td>\n",
       "      <td>0.321678</td>\n",
       "      <td>0.259657</td>\n",
       "      <td>0.078900</td>\n",
       "      <td>0.036767</td>\n",
       "      <td>-0.002110</td>\n",
       "      <td>-0.083678</td>\n",
       "      <td>-0.007163</td>\n",
       "      <td>0.002786</td>\n",
       "    </tr>\n",
       "    <tr>\n",
       "      <th>beds</th>\n",
       "      <td>0.042788</td>\n",
       "      <td>-0.113931</td>\n",
       "      <td>-0.110392</td>\n",
       "      <td>0.692740</td>\n",
       "      <td>0.491525</td>\n",
       "      <td>0.625313</td>\n",
       "      <td>1.000000</td>\n",
       "      <td>0.204713</td>\n",
       "      <td>0.278757</td>\n",
       "      <td>0.077806</td>\n",
       "      <td>0.017696</td>\n",
       "      <td>-0.003065</td>\n",
       "      <td>-0.021365</td>\n",
       "      <td>-0.012212</td>\n",
       "      <td>0.000399</td>\n",
       "    </tr>\n",
       "    <tr>\n",
       "      <th>price</th>\n",
       "      <td>0.092306</td>\n",
       "      <td>-0.092437</td>\n",
       "      <td>-0.085526</td>\n",
       "      <td>0.269929</td>\n",
       "      <td>0.310847</td>\n",
       "      <td>0.321678</td>\n",
       "      <td>0.204713</td>\n",
       "      <td>1.000000</td>\n",
       "      <td>0.032171</td>\n",
       "      <td>0.044735</td>\n",
       "      <td>0.027418</td>\n",
       "      <td>-0.001142</td>\n",
       "      <td>-0.078023</td>\n",
       "      <td>0.017889</td>\n",
       "      <td>-0.003071</td>\n",
       "    </tr>\n",
       "    <tr>\n",
       "      <th>guests_included</th>\n",
       "      <td>0.041932</td>\n",
       "      <td>-0.091123</td>\n",
       "      <td>0.049375</td>\n",
       "      <td>0.317563</td>\n",
       "      <td>0.171695</td>\n",
       "      <td>0.259657</td>\n",
       "      <td>0.278757</td>\n",
       "      <td>0.032171</td>\n",
       "      <td>1.000000</td>\n",
       "      <td>0.290723</td>\n",
       "      <td>0.005280</td>\n",
       "      <td>-0.000817</td>\n",
       "      <td>0.113160</td>\n",
       "      <td>0.027499</td>\n",
       "      <td>-0.007374</td>\n",
       "    </tr>\n",
       "    <tr>\n",
       "      <th>extra_people</th>\n",
       "      <td>-0.031589</td>\n",
       "      <td>-0.041113</td>\n",
       "      <td>0.001723</td>\n",
       "      <td>0.078709</td>\n",
       "      <td>0.077831</td>\n",
       "      <td>0.078900</td>\n",
       "      <td>0.077806</td>\n",
       "      <td>0.044735</td>\n",
       "      <td>0.290723</td>\n",
       "      <td>1.000000</td>\n",
       "      <td>0.020384</td>\n",
       "      <td>-0.000452</td>\n",
       "      <td>0.012267</td>\n",
       "      <td>0.013560</td>\n",
       "      <td>-0.002604</td>\n",
       "    </tr>\n",
       "    <tr>\n",
       "      <th>minimum_nights</th>\n",
       "      <td>-0.006441</td>\n",
       "      <td>-0.016090</td>\n",
       "      <td>-0.019213</td>\n",
       "      <td>0.024583</td>\n",
       "      <td>0.035884</td>\n",
       "      <td>0.036767</td>\n",
       "      <td>0.017696</td>\n",
       "      <td>0.027418</td>\n",
       "      <td>0.005280</td>\n",
       "      <td>0.020384</td>\n",
       "      <td>1.000000</td>\n",
       "      <td>-0.000707</td>\n",
       "      <td>-0.023387</td>\n",
       "      <td>0.009132</td>\n",
       "      <td>0.002988</td>\n",
       "    </tr>\n",
       "    <tr>\n",
       "      <th>maximum_nights</th>\n",
       "      <td>-0.000100</td>\n",
       "      <td>-0.001386</td>\n",
       "      <td>0.003403</td>\n",
       "      <td>-0.004242</td>\n",
       "      <td>-0.000780</td>\n",
       "      <td>-0.002110</td>\n",
       "      <td>-0.003065</td>\n",
       "      <td>-0.001142</td>\n",
       "      <td>-0.000817</td>\n",
       "      <td>-0.000452</td>\n",
       "      <td>-0.000707</td>\n",
       "      <td>1.000000</td>\n",
       "      <td>0.004687</td>\n",
       "      <td>-0.004358</td>\n",
       "      <td>0.000636</td>\n",
       "    </tr>\n",
       "    <tr>\n",
       "      <th>number_of_reviews</th>\n",
       "      <td>-0.025974</td>\n",
       "      <td>-0.046044</td>\n",
       "      <td>0.135377</td>\n",
       "      <td>-0.029873</td>\n",
       "      <td>-0.069505</td>\n",
       "      <td>-0.083678</td>\n",
       "      <td>-0.021365</td>\n",
       "      <td>-0.078023</td>\n",
       "      <td>0.113160</td>\n",
       "      <td>0.012267</td>\n",
       "      <td>-0.023387</td>\n",
       "      <td>0.004687</td>\n",
       "      <td>1.000000</td>\n",
       "      <td>0.061730</td>\n",
       "      <td>-0.009795</td>\n",
       "    </tr>\n",
       "    <tr>\n",
       "      <th>ano</th>\n",
       "      <td>0.031802</td>\n",
       "      <td>0.002595</td>\n",
       "      <td>0.012589</td>\n",
       "      <td>-0.000808</td>\n",
       "      <td>-0.009636</td>\n",
       "      <td>-0.007163</td>\n",
       "      <td>-0.012212</td>\n",
       "      <td>0.017889</td>\n",
       "      <td>0.027499</td>\n",
       "      <td>0.013560</td>\n",
       "      <td>0.009132</td>\n",
       "      <td>-0.004358</td>\n",
       "      <td>0.061730</td>\n",
       "      <td>1.000000</td>\n",
       "      <td>-0.518956</td>\n",
       "    </tr>\n",
       "    <tr>\n",
       "      <th>mes</th>\n",
       "      <td>-0.009584</td>\n",
       "      <td>0.002358</td>\n",
       "      <td>-0.007981</td>\n",
       "      <td>-0.003446</td>\n",
       "      <td>0.003829</td>\n",
       "      <td>0.002786</td>\n",
       "      <td>0.000399</td>\n",
       "      <td>-0.003071</td>\n",
       "      <td>-0.007374</td>\n",
       "      <td>-0.002604</td>\n",
       "      <td>0.002988</td>\n",
       "      <td>0.000636</td>\n",
       "      <td>-0.009795</td>\n",
       "      <td>-0.518956</td>\n",
       "      <td>1.000000</td>\n",
       "    </tr>\n",
       "  </tbody>\n",
       "</table>\n",
       "</div>"
      ],
      "text/plain": [
       "                     host_listings_count  latitude  longitude  accommodates  \\\n",
       "host_listings_count             1.000000 -0.034115   0.063635      0.069320   \n",
       "latitude                       -0.034115  1.000000   0.370416     -0.142082   \n",
       "longitude                       0.063635  0.370416   1.000000     -0.121746   \n",
       "accommodates                    0.069320 -0.142082  -0.121746      1.000000   \n",
       "bathrooms                       0.022332 -0.169135  -0.170504      0.521909   \n",
       "bedrooms                        0.039712 -0.165050  -0.186332      0.675913   \n",
       "beds                            0.042788 -0.113931  -0.110392      0.692740   \n",
       "price                           0.092306 -0.092437  -0.085526      0.269929   \n",
       "guests_included                 0.041932 -0.091123   0.049375      0.317563   \n",
       "extra_people                   -0.031589 -0.041113   0.001723      0.078709   \n",
       "minimum_nights                 -0.006441 -0.016090  -0.019213      0.024583   \n",
       "maximum_nights                 -0.000100 -0.001386   0.003403     -0.004242   \n",
       "number_of_reviews              -0.025974 -0.046044   0.135377     -0.029873   \n",
       "ano                             0.031802  0.002595   0.012589     -0.000808   \n",
       "mes                            -0.009584  0.002358  -0.007981     -0.003446   \n",
       "\n",
       "                     bathrooms  bedrooms      beds     price  guests_included  \\\n",
       "host_listings_count   0.022332  0.039712  0.042788  0.092306         0.041932   \n",
       "latitude             -0.169135 -0.165050 -0.113931 -0.092437        -0.091123   \n",
       "longitude            -0.170504 -0.186332 -0.110392 -0.085526         0.049375   \n",
       "accommodates          0.521909  0.675913  0.692740  0.269929         0.317563   \n",
       "bathrooms             1.000000  0.631544  0.491525  0.310847         0.171695   \n",
       "bedrooms              0.631544  1.000000  0.625313  0.321678         0.259657   \n",
       "beds                  0.491525  0.625313  1.000000  0.204713         0.278757   \n",
       "price                 0.310847  0.321678  0.204713  1.000000         0.032171   \n",
       "guests_included       0.171695  0.259657  0.278757  0.032171         1.000000   \n",
       "extra_people          0.077831  0.078900  0.077806  0.044735         0.290723   \n",
       "minimum_nights        0.035884  0.036767  0.017696  0.027418         0.005280   \n",
       "maximum_nights       -0.000780 -0.002110 -0.003065 -0.001142        -0.000817   \n",
       "number_of_reviews    -0.069505 -0.083678 -0.021365 -0.078023         0.113160   \n",
       "ano                  -0.009636 -0.007163 -0.012212  0.017889         0.027499   \n",
       "mes                   0.003829  0.002786  0.000399 -0.003071        -0.007374   \n",
       "\n",
       "                     extra_people  minimum_nights  maximum_nights  \\\n",
       "host_listings_count     -0.031589       -0.006441       -0.000100   \n",
       "latitude                -0.041113       -0.016090       -0.001386   \n",
       "longitude                0.001723       -0.019213        0.003403   \n",
       "accommodates             0.078709        0.024583       -0.004242   \n",
       "bathrooms                0.077831        0.035884       -0.000780   \n",
       "bedrooms                 0.078900        0.036767       -0.002110   \n",
       "beds                     0.077806        0.017696       -0.003065   \n",
       "price                    0.044735        0.027418       -0.001142   \n",
       "guests_included          0.290723        0.005280       -0.000817   \n",
       "extra_people             1.000000        0.020384       -0.000452   \n",
       "minimum_nights           0.020384        1.000000       -0.000707   \n",
       "maximum_nights          -0.000452       -0.000707        1.000000   \n",
       "number_of_reviews        0.012267       -0.023387        0.004687   \n",
       "ano                      0.013560        0.009132       -0.004358   \n",
       "mes                     -0.002604        0.002988        0.000636   \n",
       "\n",
       "                     number_of_reviews       ano       mes  \n",
       "host_listings_count          -0.025974  0.031802 -0.009584  \n",
       "latitude                     -0.046044  0.002595  0.002358  \n",
       "longitude                     0.135377  0.012589 -0.007981  \n",
       "accommodates                 -0.029873 -0.000808 -0.003446  \n",
       "bathrooms                    -0.069505 -0.009636  0.003829  \n",
       "bedrooms                     -0.083678 -0.007163  0.002786  \n",
       "beds                         -0.021365 -0.012212  0.000399  \n",
       "price                        -0.078023  0.017889 -0.003071  \n",
       "guests_included               0.113160  0.027499 -0.007374  \n",
       "extra_people                  0.012267  0.013560 -0.002604  \n",
       "minimum_nights               -0.023387  0.009132  0.002988  \n",
       "maximum_nights                0.004687 -0.004358  0.000636  \n",
       "number_of_reviews             1.000000  0.061730 -0.009795  \n",
       "ano                           0.061730  1.000000 -0.518956  \n",
       "mes                          -0.009795 -0.518956  1.000000  "
      ]
     },
     "execution_count": 26,
     "metadata": {},
     "output_type": "execute_result"
    }
   ],
   "source": [
    "df2.corr()"
   ]
  },
  {
   "cell_type": "code",
   "execution_count": 27,
   "metadata": {},
   "outputs": [
    {
     "data": {
      "text/plain": [
       "<AxesSubplot:>"
      ]
     },
     "execution_count": 27,
     "metadata": {},
     "output_type": "execute_result"
    },
    {
     "data": {
      "image/png": "[encoded data removed]",
      "text/plain": [
       "<Figure size 1080x720 with 2 Axes>"
      ]
     },
     "metadata": {
      "needs_background": "light"
     },
     "output_type": "display_data"
    }
   ],
   "source": [
    "plt.figure(figsize=(15, 10))\n",
    "sns.heatmap(df2.corr(), annot=True)"
   ]
  },
  {
   "cell_type": "markdown",
   "metadata": {},
   "source": [
    "#  <a name=\"secao_5\"> Seção 5 - Análise Exploratória e Tratamento de Dados Adicionais</a>\n",
    "[Voltar ao índice](#indice)"
   ]
  },
  {
   "cell_type": "markdown",
   "metadata": {},
   "source": [
    "##  <a name=\"secao_5.1\"> Seção 5.1 - Outliers</a>"
   ]
  },
  {
   "cell_type": "markdown",
   "metadata": {},
   "source": [
    "### Análise Exploratória e Tratamento de Outliers"
   ]
  },
  {
   "cell_type": "markdown",
   "metadata": {},
   "source": [
    "#### Definição de funções para a análise de Outiiers\n",
    "- Vamos definir algumas funções para ajudar na análise de Outliers:"
   ]
  },
  {
   "cell_type": "code",
   "execution_count": 28,
   "metadata": {},
   "outputs": [],
   "source": [
    "def limites(coluna):\n",
    "    q1 = coluna.quantile(0.25)\n",
    "    q3 = coluna.quantile(0.75)\n",
    "    amplitude = q3 - q1\n",
    "    return q1 - 1.5 * amplitude, q3 + 1.5 * amplitude\n",
    "\n",
    "def excluir_outliers(df, nome_coluna):\n",
    "    qtde_linhas = df.shape[0]\n",
    "    lim_inf, lim_sup = limites(df[nome_coluna])\n",
    "    df = df.loc[(df[nome_coluna] >= lim_inf) & (df[nome_coluna] <= lim_sup) , :]\n",
    "    linhas_excluidas = qtde_linhas - df.shape[0]\n",
    "    print('Foram excluídas {:,} linhas.'.format(linhas_excluidas))\n",
    "    return df "
   ]
  },
  {
   "cell_type": "markdown",
   "metadata": {},
   "source": [
    "#### Funções de gráficos\n",
    "1. Boxplot - diagrama_caixa\n",
    "2. Distplot - histograma"
   ]
  },
  {
   "cell_type": "code",
   "execution_count": 29,
   "metadata": {},
   "outputs": [],
   "source": [
    "def diagrama_caixa(coluna):\n",
    "    fig, (ax1, ax2) = plt.subplots(1, 2)\n",
    "    fig.set_size_inches(15, 5)\n",
    "    sns.boxplot(x=coluna, ax=ax1)\n",
    "    ax2.set_xlim(limites(coluna))\n",
    "    sns.boxplot(x=coluna, ax=ax2)\n",
    "\n",
    "def histograma(coluna):\n",
    "    plt.figure(figsize=(15, 5))\n",
    "    sns.distplot(coluna, hist=True)\n",
    "    \n",
    "def grafico_barras(coluna):\n",
    "    plt.figure(figsize=(15, 5))\n",
    "    sns.barplot(x=coluna.value_counts().index, y=coluna.value_counts())\n",
    "    #ax.set_xlim(limites(coluna)) # para que essa linha funcione, ax deve receber a linha acima (ax = sns.barplot.....)\n",
    "    plt.xlim(limites(coluna))\n",
    "   "
   ]
  },
  {
   "cell_type": "markdown",
   "metadata": {},
   "source": [
    "#### Analisando dados da coluna 'price'"
   ]
  },
  {
   "cell_type": "code",
   "execution_count": 30,
   "metadata": {},
   "outputs": [
    {
     "data": {
      "text/plain": [
       "(-524.0, 1276.0)"
      ]
     },
     "execution_count": 30,
     "metadata": {},
     "output_type": "execute_result"
    }
   ],
   "source": [
    "limites(df2['price'])"
   ]
  },
  {
   "cell_type": "code",
   "execution_count": 31,
   "metadata": {},
   "outputs": [
    {
     "name": "stderr",
     "output_type": "stream",
     "text": [
      "C:\\Users\\Renato\\anaconda3\\lib\\site-packages\\seaborn\\distributions.py:2557: FutureWarning: `distplot` is a deprecated function and will be removed in a future version. Please adapt your code to use either `displot` (a figure-level function with similar flexibility) or `histplot` (an axes-level function for histograms).\n",
      "  warnings.warn(msg, FutureWarning)\n"
     ]
    },
    {
     "data": {
      "image/png": "[encoded data removed]",
      "text/plain": [
       "<Figure size 1080x360 with 2 Axes>"
      ]
     },
     "metadata": {
      "needs_background": "light"
     },
     "output_type": "display_data"
    },
    {
     "data": {
      "image/png": "[encoded data removed]",
      "text/plain": [
       "<Figure size 1080x360 with 1 Axes>"
      ]
     },
     "metadata": {
      "needs_background": "light"
     },
     "output_type": "display_data"
    }
   ],
   "source": [
    "diagrama_caixa(df2['price'])\n",
    "histograma(df2['price'])"
   ]
  },
  {
   "cell_type": "markdown",
   "metadata": {},
   "source": [
    "#### Foi criada uma função para exlcuir Outliers, pois será usada para várias colunas, começando pela coluna 'price'.\n",
    "- Iremos excluir os Outliers da coluna 'price' (valores acima de 1200 reais), pois nossa análise esá focada em imóveis \"normais\" que são alugados abaixo de valor. Não nos interressa, nesse momento, analisar imóveis de alto padrão:"
   ]
  },
  {
   "cell_type": "code",
   "execution_count": 32,
   "metadata": {},
   "outputs": [
    {
     "data": {
      "text/plain": [
       "897709"
      ]
     },
     "execution_count": 32,
     "metadata": {},
     "output_type": "execute_result"
    }
   ],
   "source": [
    "df2.shape[0]"
   ]
  },
  {
   "cell_type": "code",
   "execution_count": 33,
   "metadata": {},
   "outputs": [
    {
     "name": "stdout",
     "output_type": "stream",
     "text": [
      "Foram excluídas 87,282 linhas.\n"
     ]
    }
   ],
   "source": [
    "df3 = excluir_outliers(df2, 'price')"
   ]
  },
  {
   "cell_type": "code",
   "execution_count": 34,
   "metadata": {},
   "outputs": [
    {
     "data": {
      "text/plain": [
       "810427"
      ]
     },
     "execution_count": 34,
     "metadata": {},
     "output_type": "execute_result"
    }
   ],
   "source": [
    "df3.shape[0]"
   ]
  },
  {
   "cell_type": "code",
   "execution_count": 35,
   "metadata": {},
   "outputs": [
    {
     "name": "stderr",
     "output_type": "stream",
     "text": [
      "C:\\Users\\Renato\\anaconda3\\lib\\site-packages\\seaborn\\distributions.py:2557: FutureWarning: `distplot` is a deprecated function and will be removed in a future version. Please adapt your code to use either `displot` (a figure-level function with similar flexibility) or `histplot` (an axes-level function for histograms).\n",
      "  warnings.warn(msg, FutureWarning)\n"
     ]
    },
    {
     "data": {
      "image/png": "[encoded data removed]",
      "text/plain": [
       "<Figure size 1080x360 with 1 Axes>"
      ]
     },
     "metadata": {
      "needs_background": "light"
     },
     "output_type": "display_data"
    }
   ],
   "source": [
    "histograma(df3['price'])"
   ]
  },
  {
   "cell_type": "markdown",
   "metadata": {},
   "source": [
    "#### Analisando dados da coluna 'extra_people'"
   ]
  },
  {
   "cell_type": "code",
   "execution_count": 36,
   "metadata": {},
   "outputs": [
    {
     "data": {
      "text/plain": [
       "(-75.0, 125.0)"
      ]
     },
     "execution_count": 36,
     "metadata": {},
     "output_type": "execute_result"
    }
   ],
   "source": [
    "limites(df3['extra_people'])"
   ]
  },
  {
   "cell_type": "code",
   "execution_count": 37,
   "metadata": {
    "scrolled": false
   },
   "outputs": [
    {
     "name": "stderr",
     "output_type": "stream",
     "text": [
      "C:\\Users\\Renato\\anaconda3\\lib\\site-packages\\seaborn\\distributions.py:2557: FutureWarning: `distplot` is a deprecated function and will be removed in a future version. Please adapt your code to use either `displot` (a figure-level function with similar flexibility) or `histplot` (an axes-level function for histograms).\n",
      "  warnings.warn(msg, FutureWarning)\n"
     ]
    },
    {
     "data": {
      "image/png": "[encoded data removed]",
      "text/plain": [
       "<Figure size 1080x360 with 2 Axes>"
      ]
     },
     "metadata": {
      "needs_background": "light"
     },
     "output_type": "display_data"
    },
    {
     "data": {
      "image/png": "[encoded data removed]",
      "text/plain": [
       "<Figure size 1080x360 with 1 Axes>"
      ]
     },
     "metadata": {
      "needs_background": "light"
     },
     "output_type": "display_data"
    }
   ],
   "source": [
    "diagrama_caixa(df3['extra_people'])\n",
    "histograma(df3['extra_people'])"
   ]
  },
  {
   "cell_type": "markdown",
   "metadata": {},
   "source": [
    "#### Analisando os outliers da coluna 'extra_people', valores acima de 125.00 reais (limite superior)"
   ]
  },
  {
   "cell_type": "code",
   "execution_count": 38,
   "metadata": {},
   "outputs": [
    {
     "data": {
      "text/plain": [
       "count    810427.000000\n",
       "mean         38.392715\n",
       "std          84.719193\n",
       "min           0.000000\n",
       "25%           0.000000\n",
       "50%           0.000000\n",
       "75%          50.000000\n",
       "max        5631.000000\n",
       "Name: extra_people, dtype: float64"
      ]
     },
     "execution_count": 38,
     "metadata": {},
     "output_type": "execute_result"
    }
   ],
   "source": [
    "df3['extra_people'].describe()"
   ]
  },
  {
   "cell_type": "code",
   "execution_count": 41,
   "metadata": {},
   "outputs": [
    {
     "data": {
      "text/plain": [
       "59194"
      ]
     },
     "execution_count": 41,
     "metadata": {},
     "output_type": "execute_result"
    }
   ],
   "source": [
    "df3.loc[(df3['extra_people'] > 125), 'extra_people'].shape[0]"
   ]
  },
  {
   "cell_type": "code",
   "execution_count": 42,
   "metadata": {},
   "outputs": [
    {
     "data": {
      "text/plain": [
       "0.07304050827526723"
      ]
     },
     "execution_count": 42,
     "metadata": {},
     "output_type": "execute_result"
    }
   ],
   "source": [
    "df3.loc[(df3['extra_people'] > 125), 'extra_people'].shape[0] / df3.shape[0]"
   ]
  },
  {
   "cell_type": "code",
   "execution_count": 43,
   "metadata": {
    "scrolled": false
   },
   "outputs": [
    {
     "data": {
      "text/plain": [
       "0.0      482874\n",
       "50.0      57798\n",
       "100.0     41190\n",
       "30.0      19725\n",
       "40.0      16195\n",
       "80.0      15714\n",
       "150.0     15530\n",
       "60.0      14705\n",
       "20.0      11292\n",
       "70.0      10666\n",
       "200.0      9806\n",
       "25.0       9662\n",
       "35.0       6100\n",
       "90.0       5461\n",
       "75.0       5272\n",
       "120.0      4640\n",
       "45.0       4079\n",
       "250.0      3401\n",
       "300.0      3269\n",
       "65.0       2574\n",
       "55.0       2198\n",
       "500.0      1812\n",
       "19.0       1609\n",
       "39.0       1538\n",
       "21.0       1501\n",
       "180.0      1378\n",
       "85.0       1373\n",
       "49.0       1298\n",
       "130.0      1209\n",
       "110.0      1203\n",
       "400.0      1107\n",
       "99.0       1103\n",
       "38.0       1007\n",
       "95.0        814\n",
       "22.0        788\n",
       "Name: extra_people, dtype: int64"
      ]
     },
     "execution_count": 43,
     "metadata": {},
     "output_type": "execute_result"
    }
   ],
   "source": [
    "freq_ep = df3['extra_people'].value_counts()\n",
    "freq_ep.head(35)"
   ]
  },
  {
   "cell_type": "code",
   "execution_count": 96,
   "metadata": {},
   "outputs": [
    {
     "name": "stdout",
     "output_type": "stream",
     "text": [
      "Foram excluídas 59,194 linhas.\n"
     ]
    }
   ],
   "source": [
    "df4 = excluir_outliers(df3, 'extra_people')"
   ]
  },
  {
   "cell_type": "code",
   "execution_count": 97,
   "metadata": {},
   "outputs": [
    {
     "name": "stderr",
     "output_type": "stream",
     "text": [
      "C:\\Users\\Renato\\anaconda3\\lib\\site-packages\\seaborn\\distributions.py:2557: FutureWarning:\n",
      "\n",
      "`distplot` is a deprecated function and will be removed in a future version. Please adapt your code to use either `displot` (a figure-level function with similar flexibility) or `histplot` (an axes-level function for histograms).\n",
      "\n"
     ]
    },
    {
     "data": {
      "image/png": "[encoded data removed]",
      "text/plain": [
       "<Figure size 1080x360 with 1 Axes>"
      ]
     },
     "metadata": {
      "needs_background": "light"
     },
     "output_type": "display_data"
    }
   ],
   "source": [
    "histograma(df4['extra_people'])"
   ]
  },
  {
   "cell_type": "markdown",
   "metadata": {},
   "source": [
    "### As próximas colunas serão analisadas com gráfico de barras ao invés de histogramas."
   ]
  },
  {
   "cell_type": "markdown",
   "metadata": {},
   "source": [
    "host_listings_count    -    float64  \n",
    "accommodates           -      int64  \n",
    "bathrooms              -    float64  \n",
    "bedrooms               -    float64  \n",
    "beds                   -    float64  \n",
    "guests_included        -      int64  \n",
    "minimum_nights         -      int64  \n",
    "maximum_nights         -      int64  \n",
    "number_of_reviews      -      int64  "
   ]
  },
  {
   "cell_type": "markdown",
   "metadata": {},
   "source": [
    "#### host_listings_count"
   ]
  },
  {
   "cell_type": "code",
   "execution_count": 98,
   "metadata": {},
   "outputs": [
    {
     "data": {
      "image/png": "[encoded data removed]",
      "text/plain": [
       "<Figure size 1080x360 with 2 Axes>"
      ]
     },
     "metadata": {
      "needs_background": "light"
     },
     "output_type": "display_data"
    }
   ],
   "source": [
    "diagrama_caixa(df4['host_listings_count'])"
   ]
  },
  {
   "cell_type": "code",
   "execution_count": 99,
   "metadata": {},
   "outputs": [
    {
     "data": {
      "text/plain": [
       "1.0      391506\n",
       "2.0      128922\n",
       "3.0       53462\n",
       "4.0       31266\n",
       "5.0       18732\n",
       "          ...  \n",
       "488.0         1\n",
       "103.0         1\n",
       "336.0         1\n",
       "176.0         1\n",
       "161.0         1\n",
       "Name: host_listings_count, Length: 188, dtype: int64"
      ]
     },
     "execution_count": 99,
     "metadata": {},
     "output_type": "execute_result"
    }
   ],
   "source": [
    "df4['host_listings_count'].value_counts()"
   ]
  },
  {
   "cell_type": "code",
   "execution_count": 100,
   "metadata": {},
   "outputs": [
    {
     "data": {
      "image/png": "[encoded data removed]",
      "text/plain": [
       "<Figure size 1080x360 with 1 Axes>"
      ]
     },
     "metadata": {
      "needs_background": "light"
     },
     "output_type": "display_data"
    }
   ],
   "source": [
    "grafico_barras(df4['host_listings_count'])"
   ]
  },
  {
   "cell_type": "code",
   "execution_count": 101,
   "metadata": {},
   "outputs": [
    {
     "name": "stdout",
     "output_type": "stream",
     "text": [
      "Foram excluídas 97,723 linhas.\n"
     ]
    }
   ],
   "source": [
    "df5 = excluir_outliers(df4, 'host_listings_count')"
   ]
  },
  {
   "cell_type": "markdown",
   "metadata": {},
   "source": [
    "#### accommodates "
   ]
  },
  {
   "cell_type": "code",
   "execution_count": 102,
   "metadata": {},
   "outputs": [
    {
     "data": {
      "image/png": "[encoded data removed]",
      "text/plain": [
       "<Figure size 1080x360 with 2 Axes>"
      ]
     },
     "metadata": {
      "needs_background": "light"
     },
     "output_type": "display_data"
    },
    {
     "data": {
      "image/png": "[encoded data removed]",
      "text/plain": [
       "<Figure size 1080x360 with 1 Axes>"
      ]
     },
     "metadata": {
      "needs_background": "light"
     },
     "output_type": "display_data"
    }
   ],
   "source": [
    "diagrama_caixa(df5['accommodates'])\n",
    "grafico_barras(df5['accommodates'])"
   ]
  },
  {
   "cell_type": "code",
   "execution_count": 103,
   "metadata": {},
   "outputs": [
    {
     "name": "stdout",
     "output_type": "stream",
     "text": [
      "Foram excluídas 13,146 linhas.\n"
     ]
    }
   ],
   "source": [
    "df6 = excluir_outliers(df5, 'accommodates')"
   ]
  },
  {
   "cell_type": "markdown",
   "metadata": {},
   "source": [
    "#### bathrooms"
   ]
  },
  {
   "cell_type": "code",
   "execution_count": 104,
   "metadata": {},
   "outputs": [
    {
     "data": {
      "text/plain": [
       "(-0.5, 3.5)"
      ]
     },
     "execution_count": 104,
     "metadata": {},
     "output_type": "execute_result"
    }
   ],
   "source": [
    "limites(df6['bathrooms'])"
   ]
  },
  {
   "cell_type": "code",
   "execution_count": 105,
   "metadata": {},
   "outputs": [
    {
     "data": {
      "text/plain": [
       "<AxesSubplot:ylabel='bathrooms'>"
      ]
     },
     "execution_count": 105,
     "metadata": {},
     "output_type": "execute_result"
    },
    {
     "data": {
      "image/png": "[encoded data removed]",
      "text/plain": [
       "<Figure size 1080x360 with 2 Axes>"
      ]
     },
     "metadata": {
      "needs_background": "light"
     },
     "output_type": "display_data"
    },
    {
     "data": {
      "image/png": "[encoded data removed]",
      "text/plain": [
       "<Figure size 1080x360 with 1 Axes>"
      ]
     },
     "metadata": {
      "needs_background": "light"
     },
     "output_type": "display_data"
    },
    {
     "data": {
      "image/png": "[encoded data removed]",
      "text/plain": [
       "<Figure size 1080x360 with 1 Axes>"
      ]
     },
     "metadata": {
      "needs_background": "light"
     },
     "output_type": "display_data"
    }
   ],
   "source": [
    "diagrama_caixa(df6['bathrooms'])\n",
    "grafico_barras(df6['bathrooms'])\n",
    "# vamos imprimir o mesmo gráfico de barras, mas agora sem xlim:\n",
    "plt.figure(figsize=(15, 5))\n",
    "sns.barplot(x=df6['bathrooms'].value_counts().index, y=df6['bathrooms'].value_counts())"
   ]
  },
  {
   "cell_type": "code",
   "execution_count": 106,
   "metadata": {},
   "outputs": [
    {
     "name": "stdout",
     "output_type": "stream",
     "text": [
      "Foram excluídas 6,894 linhas.\n"
     ]
    }
   ],
   "source": [
    "df7 = excluir_outliers(df6, 'bathrooms')"
   ]
  },
  {
   "cell_type": "markdown",
   "metadata": {},
   "source": [
    "#### bedrooms"
   ]
  },
  {
   "cell_type": "code",
   "execution_count": 107,
   "metadata": {},
   "outputs": [
    {
     "data": {
      "image/png": "[encoded data removed]",
      "text/plain": [
       "<Figure size 1080x360 with 2 Axes>"
      ]
     },
     "metadata": {
      "needs_background": "light"
     },
     "output_type": "display_data"
    },
    {
     "data": {
      "image/png": "[encoded data removed]",
      "text/plain": [
       "<Figure size 1080x360 with 1 Axes>"
      ]
     },
     "metadata": {
      "needs_background": "light"
     },
     "output_type": "display_data"
    }
   ],
   "source": [
    "diagrama_caixa(df7['bedrooms'])\n",
    "grafico_barras(df7['bedrooms'])"
   ]
  },
  {
   "cell_type": "code",
   "execution_count": 108,
   "metadata": {},
   "outputs": [
    {
     "name": "stdout",
     "output_type": "stream",
     "text": [
      "Foram excluídas 5,482 linhas.\n"
     ]
    }
   ],
   "source": [
    "df8 = excluir_outliers(df7, 'bedrooms')"
   ]
  },
  {
   "cell_type": "markdown",
   "metadata": {},
   "source": [
    "#### beds"
   ]
  },
  {
   "cell_type": "code",
   "execution_count": 109,
   "metadata": {},
   "outputs": [
    {
     "data": {
      "image/png": "[encoded data removed]",
      "text/plain": [
       "<Figure size 1080x360 with 2 Axes>"
      ]
     },
     "metadata": {
      "needs_background": "light"
     },
     "output_type": "display_data"
    },
    {
     "data": {
      "image/png": "[encoded data removed]",
      "text/plain": [
       "<Figure size 1080x360 with 1 Axes>"
      ]
     },
     "metadata": {
      "needs_background": "light"
     },
     "output_type": "display_data"
    }
   ],
   "source": [
    "diagrama_caixa(df8['beds'])\n",
    "grafico_barras(df8['beds'])"
   ]
  },
  {
   "cell_type": "code",
   "execution_count": 110,
   "metadata": {},
   "outputs": [
    {
     "name": "stdout",
     "output_type": "stream",
     "text": [
      "Foram excluídas 5,622 linhas.\n"
     ]
    }
   ],
   "source": [
    "df9 = excluir_outliers(df8, 'beds')"
   ]
  },
  {
   "cell_type": "markdown",
   "metadata": {},
   "source": [
    "#### guests_included"
   ]
  },
  {
   "cell_type": "code",
   "execution_count": 111,
   "metadata": {},
   "outputs": [
    {
     "data": {
      "text/plain": [
       "(1.0, 1.0)"
      ]
     },
     "execution_count": 111,
     "metadata": {},
     "output_type": "execute_result"
    }
   ],
   "source": [
    "limites(df9['guests_included'])"
   ]
  },
  {
   "cell_type": "code",
   "execution_count": 112,
   "metadata": {},
   "outputs": [
    {
     "data": {
      "text/plain": [
       "622366"
      ]
     },
     "execution_count": 112,
     "metadata": {},
     "output_type": "execute_result"
    }
   ],
   "source": [
    "df9.shape[0]"
   ]
  },
  {
   "cell_type": "code",
   "execution_count": 113,
   "metadata": {},
   "outputs": [
    {
     "data": {
      "text/plain": [
       "count    622366.000000\n",
       "mean          1.470194\n",
       "std           1.076435\n",
       "min           1.000000\n",
       "25%           1.000000\n",
       "50%           1.000000\n",
       "75%           1.000000\n",
       "max          16.000000\n",
       "Name: guests_included, dtype: float64"
      ]
     },
     "execution_count": 113,
     "metadata": {},
     "output_type": "execute_result"
    }
   ],
   "source": [
    "df9['guests_included'].describe()"
   ]
  },
  {
   "cell_type": "code",
   "execution_count": 114,
   "metadata": {},
   "outputs": [
    {
     "name": "stderr",
     "output_type": "stream",
     "text": [
      "<ipython-input-29-0a8c35013395>:5: UserWarning:\n",
      "\n",
      "Attempting to set identical left == right == 1.0 results in singular transformations; automatically expanding.\n",
      "\n",
      "<ipython-input-29-0a8c35013395>:16: UserWarning:\n",
      "\n",
      "Attempting to set identical left == right == 1.0 results in singular transformations; automatically expanding.\n",
      "\n"
     ]
    },
    {
     "data": {
      "image/png": "[encoded data removed]",
      "text/plain": [
       "<Figure size 1080x360 with 2 Axes>"
      ]
     },
     "metadata": {
      "needs_background": "light"
     },
     "output_type": "display_data"
    },
    {
     "data": {
      "image/png": "[encoded data removed]",
      "text/plain": [
       "<Figure size 1080x360 with 1 Axes>"
      ]
     },
     "metadata": {
      "needs_background": "light"
     },
     "output_type": "display_data"
    }
   ],
   "source": [
    "diagrama_caixa(df9['guests_included'])\n",
    "grafico_barras(df9['guests_included'])"
   ]
  },
  {
   "cell_type": "code",
   "execution_count": 115,
   "metadata": {},
   "outputs": [
    {
     "data": {
      "text/plain": [
       "<AxesSubplot:ylabel='guests_included'>"
      ]
     },
     "execution_count": 115,
     "metadata": {},
     "output_type": "execute_result"
    },
    {
     "data": {
      "image/png": "[encoded data removed]",
      "text/plain": [
       "<Figure size 1080x360 with 1 Axes>"
      ]
     },
     "metadata": {
      "needs_background": "light"
     },
     "output_type": "display_data"
    }
   ],
   "source": [
    "# vamos imprimir o mesmo gráfico de barras, mas agora sem xlim:\n",
    "plt.figure(figsize=(15, 5))\n",
    "sns.barplot(x=df9['guests_included'].value_counts().index, y=df9['guests_included'].value_counts())"
   ]
  },
  {
   "cell_type": "code",
   "execution_count": 116,
   "metadata": {},
   "outputs": [
    {
     "data": {
      "text/plain": [
       "1     475691\n",
       "2      81251\n",
       "4      33378\n",
       "3      15616\n",
       "6       8074\n",
       "5       6413\n",
       "7       1009\n",
       "8        595\n",
       "16        87\n",
       "9         82\n",
       "10        65\n",
       "12        57\n",
       "15        23\n",
       "11        15\n",
       "14        10\n",
       "Name: guests_included, dtype: int64"
      ]
     },
     "execution_count": 116,
     "metadata": {},
     "output_type": "execute_result"
    }
   ],
   "source": [
    "df9['guests_included'].value_counts()"
   ]
  },
  {
   "cell_type": "markdown",
   "metadata": {},
   "source": [
    "Resolvi excluir essa coluna (feature) da nossa análise, pois mais de 75% dos valores são 1 (apenas uma pessoa (guest) incluído no valor) o que indica algum tipo de erro no preenchimento (ou não preenchimento - ficando o valor padrão de 1) o que pode causar viés na análise, por isso será escluída"
   ]
  },
  {
   "cell_type": "code",
   "execution_count": 117,
   "metadata": {},
   "outputs": [
    {
     "data": {
      "text/plain": [
       "(622366, 22)"
      ]
     },
     "execution_count": 117,
     "metadata": {},
     "output_type": "execute_result"
    }
   ],
   "source": [
    "df10 = df9.drop('guests_included', axis=1)\n",
    "df10.shape"
   ]
  },
  {
   "cell_type": "markdown",
   "metadata": {},
   "source": [
    "#### minimum_nights"
   ]
  },
  {
   "cell_type": "code",
   "execution_count": 118,
   "metadata": {},
   "outputs": [
    {
     "data": {
      "image/png": "[encoded data removed]",
      "text/plain": [
       "<Figure size 1080x360 with 2 Axes>"
      ]
     },
     "metadata": {
      "needs_background": "light"
     },
     "output_type": "display_data"
    },
    {
     "data": {
      "image/png": "[encoded data removed]",
      "text/plain": [
       "<Figure size 1080x360 with 1 Axes>"
      ]
     },
     "metadata": {
      "needs_background": "light"
     },
     "output_type": "display_data"
    }
   ],
   "source": [
    "diagrama_caixa(df10['minimum_nights'])\n",
    "grafico_barras(df10['minimum_nights'])"
   ]
  },
  {
   "cell_type": "code",
   "execution_count": 119,
   "metadata": {},
   "outputs": [
    {
     "name": "stdout",
     "output_type": "stream",
     "text": [
      "Foram excluídas 40,383 linhas.\n"
     ]
    }
   ],
   "source": [
    "df11 = excluir_outliers(df10, 'minimum_nights')"
   ]
  },
  {
   "cell_type": "markdown",
   "metadata": {},
   "source": [
    "#### maximum_nights"
   ]
  },
  {
   "cell_type": "code",
   "execution_count": 120,
   "metadata": {},
   "outputs": [
    {
     "data": {
      "image/png": "[encoded data removed]",
      "text/plain": [
       "<Figure size 1080x360 with 2 Axes>"
      ]
     },
     "metadata": {
      "needs_background": "light"
     },
     "output_type": "display_data"
    },
    {
     "data": {
      "image/png": "[encoded data removed]",
      "text/plain": [
       "<Figure size 1080x360 with 1 Axes>"
      ]
     },
     "metadata": {
      "needs_background": "light"
     },
     "output_type": "display_data"
    }
   ],
   "source": [
    "diagrama_caixa(df11['maximum_nights'])\n",
    "grafico_barras(df11['maximum_nights'])"
   ]
  },
  {
   "cell_type": "code",
   "execution_count": 121,
   "metadata": {},
   "outputs": [
    {
     "data": {
      "text/plain": [
       "<AxesSubplot:ylabel='maximum_nights'>"
      ]
     },
     "execution_count": 121,
     "metadata": {},
     "output_type": "execute_result"
    },
    {
     "data": {
      "image/png": "[encoded data removed]",
      "text/plain": [
       "<Figure size 1080x360 with 1 Axes>"
      ]
     },
     "metadata": {
      "needs_background": "light"
     },
     "output_type": "display_data"
    }
   ],
   "source": [
    "plt.figure(figsize=(15, 5))\n",
    "sns.barplot(x=df11['maximum_nights'].value_counts().index, y=df11['maximum_nights'].value_counts())\n",
    "#number_of_reviews             int64"
   ]
  },
  {
   "cell_type": "markdown",
   "metadata": {},
   "source": [
    " A feature 'maximum_nights' será retirada da análise por não haver relevância e consistência nos valores"
   ]
  },
  {
   "cell_type": "code",
   "execution_count": 122,
   "metadata": {},
   "outputs": [
    {
     "data": {
      "text/plain": [
       "(581983, 21)"
      ]
     },
     "execution_count": 122,
     "metadata": {},
     "output_type": "execute_result"
    }
   ],
   "source": [
    "df12 = df11.drop('maximum_nights', axis=1)\n",
    "df12.shape"
   ]
  },
  {
   "cell_type": "markdown",
   "metadata": {},
   "source": [
    "#### number_of_reviews"
   ]
  },
  {
   "cell_type": "code",
   "execution_count": 123,
   "metadata": {},
   "outputs": [
    {
     "data": {
      "image/png": "[encoded data removed]",
      "text/plain": [
       "<Figure size 1080x360 with 2 Axes>"
      ]
     },
     "metadata": {
      "needs_background": "light"
     },
     "output_type": "display_data"
    },
    {
     "data": {
      "image/png": "[encoded data removed]",
      "text/plain": [
       "<Figure size 1080x360 with 1 Axes>"
      ]
     },
     "metadata": {
      "needs_background": "light"
     },
     "output_type": "display_data"
    }
   ],
   "source": [
    "diagrama_caixa(df12['number_of_reviews'])\n",
    "grafico_barras(df12['number_of_reviews'])"
   ]
  },
  {
   "cell_type": "code",
   "execution_count": 124,
   "metadata": {},
   "outputs": [
    {
     "name": "stdout",
     "output_type": "stream",
     "text": [
      "Foram excluídas 80,421 linhas.\n"
     ]
    }
   ],
   "source": [
    "df13 = excluir_outliers(df12, 'number_of_reviews')"
   ]
  },
  {
   "cell_type": "markdown",
   "metadata": {},
   "source": [
    "80 mil linhas é uma quantidade muito grande para ser excluída. Na verdade não deveríamos excluir esses outliers, pois os hosts com mais reviews (mais de 20 por exemplo) devem ser os que tem os preços mais bem ajustados.\n",
    "Como os usuários do nosso modelo serão pessoas que irão disponibilizar seus imóveis pela primeira vez, a feature 'number_of_reviews' não terá relevância no nosso modelo, por isso será excluída"
   ]
  },
  {
   "cell_type": "code",
   "execution_count": 125,
   "metadata": {},
   "outputs": [
    {
     "data": {
      "text/plain": [
       "(501562, 21)"
      ]
     },
     "execution_count": 125,
     "metadata": {},
     "output_type": "execute_result"
    }
   ],
   "source": [
    "df13.shape"
   ]
  },
  {
   "cell_type": "markdown",
   "metadata": {},
   "source": [
    "Utilizaremos o df12 (data frame com as 80,421 linhas que foram excluídas, mas não deveriam ter sido)"
   ]
  },
  {
   "cell_type": "code",
   "execution_count": 126,
   "metadata": {},
   "outputs": [
    {
     "data": {
      "text/plain": [
       "(581983, 20)"
      ]
     },
     "execution_count": 126,
     "metadata": {},
     "output_type": "execute_result"
    }
   ],
   "source": [
    "df12 = df12.drop('number_of_reviews', axis=1)\n",
    "df12.shape"
   ]
  },
  {
   "cell_type": "markdown",
   "metadata": {},
   "source": [
    "##  <a name=\"secao_5.2\"> Seção 5.2 - Valores de Texto</a>\n",
    "[Voltar ao índice](#indice)"
   ]
  },
  {
   "cell_type": "code",
   "execution_count": 127,
   "metadata": {},
   "outputs": [
    {
     "name": "stdout",
     "output_type": "stream",
     "text": [
      "<class 'pandas.core.frame.DataFrame'>\n",
      "Int64Index: 581983 entries, 1 to 34328\n",
      "Data columns (total 20 columns):\n",
      " #   Column                    Non-Null Count   Dtype  \n",
      "---  ------                    --------------   -----  \n",
      " 0   host_is_superhost         581983 non-null  object \n",
      " 1   host_listings_count       581983 non-null  float64\n",
      " 2   latitude                  581983 non-null  float64\n",
      " 3   longitude                 581983 non-null  float64\n",
      " 4   property_type             581983 non-null  object \n",
      " 5   room_type                 581983 non-null  object \n",
      " 6   accommodates              581983 non-null  int64  \n",
      " 7   bathrooms                 581983 non-null  float64\n",
      " 8   bedrooms                  581983 non-null  float64\n",
      " 9   beds                      581983 non-null  float64\n",
      " 10  bed_type                  581983 non-null  object \n",
      " 11  amenities                 581983 non-null  object \n",
      " 12  price                     581983 non-null  float32\n",
      " 13  extra_people              581983 non-null  float32\n",
      " 14  minimum_nights            581983 non-null  int64  \n",
      " 15  instant_bookable          581983 non-null  object \n",
      " 16  is_business_travel_ready  581983 non-null  object \n",
      " 17  cancellation_policy       581983 non-null  object \n",
      " 18  ano                       581983 non-null  int64  \n",
      " 19  mes                       581983 non-null  int64  \n",
      "dtypes: float32(2), float64(6), int64(4), object(8)\n",
      "memory usage: 88.8+ MB\n"
     ]
    }
   ],
   "source": [
    "df12.info()"
   ]
  },
  {
   "cell_type": "markdown",
   "metadata": {},
   "source": [
    "##  Tratamento das Colunas com Valores de Texto"
   ]
  },
  {
   "cell_type": "code",
   "execution_count": 128,
   "metadata": {},
   "outputs": [
    {
     "data": {
      "text/html": [
       "<div>\n",
       "<style scoped>\n",
       "    .dataframe tbody tr th:only-of-type {\n",
       "        vertical-align: middle;\n",
       "    }\n",
       "\n",
       "    .dataframe tbody tr th {\n",
       "        vertical-align: top;\n",
       "    }\n",
       "\n",
       "    .dataframe thead th {\n",
       "        text-align: right;\n",
       "    }\n",
       "</style>\n",
       "<table border=\"1\" class=\"dataframe\">\n",
       "  <thead>\n",
       "    <tr style=\"text-align: right;\">\n",
       "      <th></th>\n",
       "      <th>29786</th>\n",
       "    </tr>\n",
       "  </thead>\n",
       "  <tbody>\n",
       "    <tr>\n",
       "      <th>host_is_superhost</th>\n",
       "      <td>f</td>\n",
       "    </tr>\n",
       "    <tr>\n",
       "      <th>host_listings_count</th>\n",
       "      <td>0.0</td>\n",
       "    </tr>\n",
       "    <tr>\n",
       "      <th>latitude</th>\n",
       "      <td>-22.94062</td>\n",
       "    </tr>\n",
       "    <tr>\n",
       "      <th>longitude</th>\n",
       "      <td>-43.18073</td>\n",
       "    </tr>\n",
       "    <tr>\n",
       "      <th>property_type</th>\n",
       "      <td>Apartment</td>\n",
       "    </tr>\n",
       "    <tr>\n",
       "      <th>room_type</th>\n",
       "      <td>Entire home/apt</td>\n",
       "    </tr>\n",
       "    <tr>\n",
       "      <th>accommodates</th>\n",
       "      <td>5</td>\n",
       "    </tr>\n",
       "    <tr>\n",
       "      <th>bathrooms</th>\n",
       "      <td>2.0</td>\n",
       "    </tr>\n",
       "    <tr>\n",
       "      <th>bedrooms</th>\n",
       "      <td>3.0</td>\n",
       "    </tr>\n",
       "    <tr>\n",
       "      <th>beds</th>\n",
       "      <td>4.0</td>\n",
       "    </tr>\n",
       "    <tr>\n",
       "      <th>bed_type</th>\n",
       "      <td>Real Bed</td>\n",
       "    </tr>\n",
       "    <tr>\n",
       "      <th>amenities</th>\n",
       "      <td>{TV,Wifi,\"Air conditioning\",Kitchen,\"Smoking a...</td>\n",
       "    </tr>\n",
       "    <tr>\n",
       "      <th>price</th>\n",
       "      <td>195.0</td>\n",
       "    </tr>\n",
       "    <tr>\n",
       "      <th>extra_people</th>\n",
       "      <td>100.0</td>\n",
       "    </tr>\n",
       "    <tr>\n",
       "      <th>minimum_nights</th>\n",
       "      <td>4</td>\n",
       "    </tr>\n",
       "    <tr>\n",
       "      <th>instant_bookable</th>\n",
       "      <td>f</td>\n",
       "    </tr>\n",
       "    <tr>\n",
       "      <th>is_business_travel_ready</th>\n",
       "      <td>f</td>\n",
       "    </tr>\n",
       "    <tr>\n",
       "      <th>cancellation_policy</th>\n",
       "      <td>flexible</td>\n",
       "    </tr>\n",
       "    <tr>\n",
       "      <th>ano</th>\n",
       "      <td>2019</td>\n",
       "    </tr>\n",
       "    <tr>\n",
       "      <th>mes</th>\n",
       "      <td>8</td>\n",
       "    </tr>\n",
       "  </tbody>\n",
       "</table>\n",
       "</div>"
      ],
      "text/plain": [
       "                                                                      29786\n",
       "host_is_superhost                                                         f\n",
       "host_listings_count                                                     0.0\n",
       "latitude                                                          -22.94062\n",
       "longitude                                                         -43.18073\n",
       "property_type                                                     Apartment\n",
       "room_type                                                   Entire home/apt\n",
       "accommodates                                                              5\n",
       "bathrooms                                                               2.0\n",
       "bedrooms                                                                3.0\n",
       "beds                                                                    4.0\n",
       "bed_type                                                           Real Bed\n",
       "amenities                 {TV,Wifi,\"Air conditioning\",Kitchen,\"Smoking a...\n",
       "price                                                                 195.0\n",
       "extra_people                                                          100.0\n",
       "minimum_nights                                                            4\n",
       "instant_bookable                                                          f\n",
       "is_business_travel_ready                                                  f\n",
       "cancellation_policy                                                flexible\n",
       "ano                                                                    2019\n",
       "mes                                                                       8"
      ]
     },
     "execution_count": 128,
     "metadata": {},
     "output_type": "execute_result"
    }
   ],
   "source": [
    "df12.sample().T"
   ]
  },
  {
   "cell_type": "markdown",
   "metadata": {},
   "source": [
    "#### Listando as colunas com valores de texto:"
   ]
  },
  {
   "cell_type": "markdown",
   "metadata": {},
   "source": [
    "property_type       -  Loft  \n",
    "room_type\t        -  Entire home/apt  \n",
    "bed_type\t        -  Real Bed  \n",
    "amenities\t        -  {TV,\"Cable TV\",Internet,Wifi,\"Air conditioning...  \n",
    "cancellation_policy\t-  strict_14_with_grace_period  "
   ]
  },
  {
   "cell_type": "markdown",
   "metadata": {},
   "source": [
    "#### property_type"
   ]
  },
  {
   "cell_type": "code",
   "execution_count": 129,
   "metadata": {},
   "outputs": [
    {
     "name": "stdout",
     "output_type": "stream",
     "text": [
      "Apartment                 458354\n",
      "House                      51387\n",
      "Condominium                26456\n",
      "Serviced apartment         12671\n",
      "Loft                       12352\n",
      "Guest suite                 3621\n",
      "Bed and breakfast           3472\n",
      "Hostel                      2665\n",
      "Guesthouse                  2155\n",
      "Other                       1957\n",
      "Villa                       1294\n",
      "Townhouse                    969\n",
      "Aparthotel                   693\n",
      "Chalet                       481\n",
      "Earth house                  468\n",
      "Tiny house                   457\n",
      "Boutique hotel               447\n",
      "Hotel                        376\n",
      "Casa particular (Cuba)       298\n",
      "Cottage                      230\n",
      "Bungalow                     207\n",
      "Dorm                         185\n",
      "Cabin                        141\n",
      "Nature lodge                 124\n",
      "Castle                        80\n",
      "Treehouse                     76\n",
      "Island                        54\n",
      "Boat                          53\n",
      "Hut                           40\n",
      "Campsite                      34\n",
      "Resort                        31\n",
      "Camper/RV                     24\n",
      "Yurt                          23\n",
      "Tent                          18\n",
      "Tipi                          17\n",
      "Barn                          15\n",
      "Farm stay                     13\n",
      "Pension (South Korea)          9\n",
      "Dome house                     8\n",
      "Igloo                          6\n",
      "In-law                         6\n",
      "Vacation home                  4\n",
      "Houseboat                      3\n",
      "Timeshare                      3\n",
      "Pousada                        3\n",
      "Casa particular                2\n",
      "Plane                          1\n",
      "Name: property_type, dtype: int64\n"
     ]
    }
   ],
   "source": [
    "print(df12['property_type'].value_counts())"
   ]
  },
  {
   "cell_type": "code",
   "execution_count": 130,
   "metadata": {},
   "outputs": [
    {
     "name": "stderr",
     "output_type": "stream",
     "text": [
      "C:\\Users\\Renato\\anaconda3\\lib\\site-packages\\seaborn\\_decorators.py:36: FutureWarning:\n",
      "\n",
      "Pass the following variable as a keyword arg: x. From version 0.12, the only valid positional argument will be `data`, and passing other arguments without an explicit keyword will result in an error or misinterpretation.\n",
      "\n"
     ]
    },
    {
     "data": {
      "image/png": "[encoded data removed]",
      "text/plain": [
       "<Figure size 1080x360 with 1 Axes>"
      ]
     },
     "metadata": {
      "needs_background": "light"
     },
     "output_type": "display_data"
    }
   ],
   "source": [
    "plt.figure(figsize=(15, 5))\n",
    "grafico = sns.countplot('property_type', data=df12)\n",
    "grafico.tick_params(axis='x', rotation=90)"
   ]
  },
  {
   "cell_type": "code",
   "execution_count": 131,
   "metadata": {},
   "outputs": [
    {
     "name": "stdout",
     "output_type": "stream",
     "text": [
      "Apartment             458354\n",
      "House                  51387\n",
      "Condominium            26456\n",
      "Serviced apartment     12671\n",
      "Loft                   12352\n",
      "Outros                  8850\n",
      "Guest suite             3621\n",
      "Bed and breakfast       3472\n",
      "Hostel                  2665\n",
      "Guesthouse              2155\n",
      "Name: property_type, dtype: int64\n"
     ]
    }
   ],
   "source": [
    "for tipo in df12['property_type'].value_counts().index:\n",
    "    if df12['property_type'].value_counts()[tipo] < 2000:     \n",
    "        df12.loc[df12['property_type']==tipo, 'property_type'] = 'Outros'\n",
    "        \n",
    "print(df12['property_type'].value_counts())    "
   ]
  },
  {
   "cell_type": "code",
   "execution_count": 132,
   "metadata": {},
   "outputs": [
    {
     "name": "stderr",
     "output_type": "stream",
     "text": [
      "C:\\Users\\Renato\\anaconda3\\lib\\site-packages\\seaborn\\_decorators.py:36: FutureWarning:\n",
      "\n",
      "Pass the following variable as a keyword arg: x. From version 0.12, the only valid positional argument will be `data`, and passing other arguments without an explicit keyword will result in an error or misinterpretation.\n",
      "\n"
     ]
    },
    {
     "data": {
      "image/png": "[encoded data removed]",
      "text/plain": [
       "<Figure size 1080x360 with 1 Axes>"
      ]
     },
     "metadata": {
      "needs_background": "light"
     },
     "output_type": "display_data"
    }
   ],
   "source": [
    "plt.figure(figsize=(15, 5))\n",
    "grafico = sns.countplot('property_type', data=df12)\n",
    "grafico.tick_params(axis='x', rotation=90)"
   ]
  },
  {
   "cell_type": "markdown",
   "metadata": {},
   "source": [
    "#### room_type"
   ]
  },
  {
   "cell_type": "code",
   "execution_count": 133,
   "metadata": {},
   "outputs": [
    {
     "data": {
      "text/plain": [
       "Entire home/apt    372443\n",
       "Private room       196859\n",
       "Shared room         11714\n",
       "Hotel room            967\n",
       "Name: room_type, dtype: int64"
      ]
     },
     "execution_count": 133,
     "metadata": {},
     "output_type": "execute_result"
    }
   ],
   "source": [
    "df12['room_type'].value_counts()"
   ]
  },
  {
   "cell_type": "markdown",
   "metadata": {},
   "source": [
    "#### bed_type"
   ]
  },
  {
   "cell_type": "code",
   "execution_count": 134,
   "metadata": {},
   "outputs": [
    {
     "data": {
      "text/plain": [
       "Real Bed         570643\n",
       "Pull-out Sofa      8055\n",
       "Futon              1634\n",
       "Airbed             1155\n",
       "Couch               496\n",
       "Name: bed_type, dtype: int64"
      ]
     },
     "execution_count": 134,
     "metadata": {},
     "output_type": "execute_result"
    }
   ],
   "source": [
    "df12['bed_type'].value_counts()"
   ]
  },
  {
   "cell_type": "code",
   "execution_count": 135,
   "metadata": {},
   "outputs": [],
   "source": [
    "df12.loc[df12['bed_type']!='Real Bed', 'bed_type'] = 'Outros'"
   ]
  },
  {
   "cell_type": "code",
   "execution_count": 136,
   "metadata": {},
   "outputs": [
    {
     "data": {
      "text/plain": [
       "Real Bed    570643\n",
       "Outros       11340\n",
       "Name: bed_type, dtype: int64"
      ]
     },
     "execution_count": 136,
     "metadata": {},
     "output_type": "execute_result"
    }
   ],
   "source": [
    "df12['bed_type'].value_counts()"
   ]
  },
  {
   "cell_type": "markdown",
   "metadata": {},
   "source": [
    "#### cancellation_policy"
   ]
  },
  {
   "cell_type": "code",
   "execution_count": 137,
   "metadata": {},
   "outputs": [
    {
     "data": {
      "text/plain": [
       "flexible                       258096\n",
       "strict_14_with_grace_period    200743\n",
       "moderate                       113281\n",
       "strict                           9696\n",
       "super_strict_60                   135\n",
       "super_strict_30                    32\n",
       "Name: cancellation_policy, dtype: int64"
      ]
     },
     "execution_count": 137,
     "metadata": {},
     "output_type": "execute_result"
    }
   ],
   "source": [
    "df12['cancellation_policy'].value_counts()"
   ]
  },
  {
   "cell_type": "code",
   "execution_count": 138,
   "metadata": {},
   "outputs": [
    {
     "data": {
      "text/plain": [
       "flexible                       258096\n",
       "strict_14_with_grace_period    200743\n",
       "moderate                       113281\n",
       "strict                           9863\n",
       "Name: cancellation_policy, dtype: int64"
      ]
     },
     "execution_count": 138,
     "metadata": {},
     "output_type": "execute_result"
    }
   ],
   "source": [
    "df12.loc[df12['cancellation_policy']=='super_strict_60', 'cancellation_policy'] = 'strict'\n",
    "df12.loc[df12['cancellation_policy']=='super_strict_30', 'cancellation_policy'] = 'strict'\n",
    "df12['cancellation_policy'].value_counts()"
   ]
  },
  {
   "cell_type": "markdown",
   "metadata": {},
   "source": [
    "#### amenities"
   ]
  },
  {
   "cell_type": "code",
   "execution_count": 139,
   "metadata": {},
   "outputs": [
    {
     "data": {
      "text/plain": [
       "6082    {\"Cable TV\",Wifi,\"Air conditioning\",\"Wheelchai...\n",
       "Name: amenities, dtype: object"
      ]
     },
     "execution_count": 139,
     "metadata": {},
     "output_type": "execute_result"
    }
   ],
   "source": [
    "df12['amenities'].sample()"
   ]
  },
  {
   "cell_type": "markdown",
   "metadata": {},
   "source": [
    "Como a variedade e as descrições de amenities não são consistentes, vamos utilizar como parâmetro a quantidade de amenities mencionadas pelo host"
   ]
  },
  {
   "cell_type": "code",
   "execution_count": 140,
   "metadata": {},
   "outputs": [
    {
     "name": "stdout",
     "output_type": "stream",
     "text": [
      "{TV,\"Cable TV\",Internet,Wifi,\"Air conditioning\",Kitchen,\"Paid parking off premises\",\"Smoking allowed\",Doorman,Elevator,\"Hot tub\",\"Family/kid friendly\",\"Suitable for events\",Essentials,\"24-hour check-in\",Hangers,\"Hair dryer\",Iron,\"Laptop friendly workspace\",\"Self check-in\",\"Front desk/doorperson\",\"Private entrance\",\"Hot water\",\"Bed linens\",\"Luggage dropoff allowed\"} \n",
      "\n",
      "['{TV', '\"Cable TV\"', 'Internet', 'Wifi', '\"Air conditioning\"', 'Kitchen', '\"Paid parking off premises\"', '\"Smoking allowed\"', 'Doorman', 'Elevator', '\"Hot tub\"', '\"Family/kid friendly\"', '\"Suitable for events\"', 'Essentials', '\"24-hour check-in\"', 'Hangers', '\"Hair dryer\"', 'Iron', '\"Laptop friendly workspace\"', '\"Self check-in\"', '\"Front desk/doorperson\"', '\"Private entrance\"', '\"Hot water\"', '\"Bed linens\"', '\"Luggage dropoff allowed\"}'] \n",
      "\n",
      "25\n"
     ]
    }
   ],
   "source": [
    "print(df12['amenities'].iloc[0],'\\n')\n",
    "print(df12['amenities'].iloc[0].split(','),'\\n')\n",
    "print(len(df12['amenities'].iloc[0].split(',')))"
   ]
  },
  {
   "cell_type": "code",
   "execution_count": 141,
   "metadata": {},
   "outputs": [
    {
     "data": {
      "text/plain": [
       "12    33569\n",
       "13    33012\n",
       "11    32982\n",
       "14    32473\n",
       "15    31153\n",
       "      ...  \n",
       "75        6\n",
       "72        5\n",
       "77        5\n",
       "71        2\n",
       "79        2\n",
       "Name: n_amenities, Length: 78, dtype: int64"
      ]
     },
     "execution_count": 141,
     "metadata": {},
     "output_type": "execute_result"
    }
   ],
   "source": [
    "df12['n_amenities'] = df12['amenities'].str.split(',').apply(len)\n",
    "df12['n_amenities'].value_counts()"
   ]
  },
  {
   "cell_type": "code",
   "execution_count": 142,
   "metadata": {},
   "outputs": [
    {
     "data": {
      "text/plain": [
       "(581983, 21)"
      ]
     },
     "execution_count": 142,
     "metadata": {},
     "output_type": "execute_result"
    }
   ],
   "source": [
    "df12.shape"
   ]
  },
  {
   "cell_type": "code",
   "execution_count": 143,
   "metadata": {},
   "outputs": [
    {
     "data": {
      "text/plain": [
       "(581983, 20)"
      ]
     },
     "execution_count": 143,
     "metadata": {},
     "output_type": "execute_result"
    }
   ],
   "source": [
    "df13 = df12.drop('amenities', axis=1)\n",
    "df13.shape"
   ]
  },
  {
   "cell_type": "code",
   "execution_count": 144,
   "metadata": {},
   "outputs": [
    {
     "data": {
      "image/png": "[encoded data removed]",
      "text/plain": [
       "<Figure size 1080x360 with 2 Axes>"
      ]
     },
     "metadata": {
      "needs_background": "light"
     },
     "output_type": "display_data"
    },
    {
     "data": {
      "image/png": "[encoded data removed]",
      "text/plain": [
       "<Figure size 1080x360 with 1 Axes>"
      ]
     },
     "metadata": {
      "needs_background": "light"
     },
     "output_type": "display_data"
    }
   ],
   "source": [
    "diagrama_caixa(df13['n_amenities'])\n",
    "grafico_barras(df13['n_amenities'])"
   ]
  },
  {
   "cell_type": "code",
   "execution_count": 145,
   "metadata": {},
   "outputs": [
    {
     "data": {
      "text/plain": [
       "(-5.5, 38.5)"
      ]
     },
     "execution_count": 145,
     "metadata": {},
     "output_type": "execute_result"
    }
   ],
   "source": [
    "limites(df13['n_amenities'])"
   ]
  },
  {
   "cell_type": "code",
   "execution_count": 146,
   "metadata": {},
   "outputs": [
    {
     "name": "stdout",
     "output_type": "stream",
     "text": [
      "Foram excluídas 24,343 linhas.\n"
     ]
    }
   ],
   "source": [
    "df14 = excluir_outliers(df13, 'n_amenities')"
   ]
  },
  {
   "cell_type": "markdown",
   "metadata": {},
   "source": [
    "### Visualização de mapa das propriedades - Mapa de Densidade (de preço)"
   ]
  },
  {
   "cell_type": "code",
   "execution_count": null,
   "metadata": {},
   "outputs": [],
   "source": [
    "amostra = df14.sample(n=10000)\n",
    "centro_mapa = {'lat': df14.latitude.mean(), 'lon': df14.longitude.mean()}\n",
    "mapa = px.density_mapbox(df14, lat='latitude', lon='longitude', z='price', radius=2.5,\n",
    "                        center=centro_mapa, zoom=10, mapbox_style = 'stamen-terrain')\n",
    "mapa.show()"
   ]
  },
  {
   "cell_type": "markdown",
   "metadata": {},
   "source": [
    "##  <a name=\"secao_5.3\"> Seção 5.3 - Encoding</a>\n",
    "[Voltar ao índice](#indice)"
   ]
  },
  {
   "cell_type": "markdown",
   "metadata": {},
   "source": [
    "### Encoding\n",
    "\n",
    "É necessário ajustar as features para vabilizar o processamento do nosso futuro modelo (categorias, true/false, etc)\n",
    "- Features de valores True ou False serão substituídas por True=1 e False=0\n",
    "- Para as features de categorias usaremos o método de variáveis dummies"
   ]
  },
  {
   "cell_type": "code",
   "execution_count": 147,
   "metadata": {},
   "outputs": [
    {
     "data": {
      "text/html": [
       "<div>\n",
       "<style scoped>\n",
       "    .dataframe tbody tr th:only-of-type {\n",
       "        vertical-align: middle;\n",
       "    }\n",
       "\n",
       "    .dataframe tbody tr th {\n",
       "        vertical-align: top;\n",
       "    }\n",
       "\n",
       "    .dataframe thead th {\n",
       "        text-align: right;\n",
       "    }\n",
       "</style>\n",
       "<table border=\"1\" class=\"dataframe\">\n",
       "  <thead>\n",
       "    <tr style=\"text-align: right;\">\n",
       "      <th></th>\n",
       "      <th>18059</th>\n",
       "    </tr>\n",
       "  </thead>\n",
       "  <tbody>\n",
       "    <tr>\n",
       "      <th>host_is_superhost</th>\n",
       "      <td>f</td>\n",
       "    </tr>\n",
       "    <tr>\n",
       "      <th>host_listings_count</th>\n",
       "      <td>1.0</td>\n",
       "    </tr>\n",
       "    <tr>\n",
       "      <th>latitude</th>\n",
       "      <td>-23.00973</td>\n",
       "    </tr>\n",
       "    <tr>\n",
       "      <th>longitude</th>\n",
       "      <td>-43.30211</td>\n",
       "    </tr>\n",
       "    <tr>\n",
       "      <th>property_type</th>\n",
       "      <td>Apartment</td>\n",
       "    </tr>\n",
       "    <tr>\n",
       "      <th>room_type</th>\n",
       "      <td>Private room</td>\n",
       "    </tr>\n",
       "    <tr>\n",
       "      <th>accommodates</th>\n",
       "      <td>3</td>\n",
       "    </tr>\n",
       "    <tr>\n",
       "      <th>bathrooms</th>\n",
       "      <td>1.0</td>\n",
       "    </tr>\n",
       "    <tr>\n",
       "      <th>bedrooms</th>\n",
       "      <td>1.0</td>\n",
       "    </tr>\n",
       "    <tr>\n",
       "      <th>beds</th>\n",
       "      <td>1.0</td>\n",
       "    </tr>\n",
       "    <tr>\n",
       "      <th>bed_type</th>\n",
       "      <td>Real Bed</td>\n",
       "    </tr>\n",
       "    <tr>\n",
       "      <th>price</th>\n",
       "      <td>172.0</td>\n",
       "    </tr>\n",
       "    <tr>\n",
       "      <th>extra_people</th>\n",
       "      <td>50.0</td>\n",
       "    </tr>\n",
       "    <tr>\n",
       "      <th>minimum_nights</th>\n",
       "      <td>2</td>\n",
       "    </tr>\n",
       "    <tr>\n",
       "      <th>instant_bookable</th>\n",
       "      <td>t</td>\n",
       "    </tr>\n",
       "    <tr>\n",
       "      <th>is_business_travel_ready</th>\n",
       "      <td>f</td>\n",
       "    </tr>\n",
       "    <tr>\n",
       "      <th>cancellation_policy</th>\n",
       "      <td>flexible</td>\n",
       "    </tr>\n",
       "    <tr>\n",
       "      <th>ano</th>\n",
       "      <td>2020</td>\n",
       "    </tr>\n",
       "    <tr>\n",
       "      <th>mes</th>\n",
       "      <td>3</td>\n",
       "    </tr>\n",
       "    <tr>\n",
       "      <th>n_amenities</th>\n",
       "      <td>12</td>\n",
       "    </tr>\n",
       "  </tbody>\n",
       "</table>\n",
       "</div>"
      ],
      "text/plain": [
       "                                 18059\n",
       "host_is_superhost                    f\n",
       "host_listings_count                1.0\n",
       "latitude                     -23.00973\n",
       "longitude                    -43.30211\n",
       "property_type                Apartment\n",
       "room_type                 Private room\n",
       "accommodates                         3\n",
       "bathrooms                          1.0\n",
       "bedrooms                           1.0\n",
       "beds                               1.0\n",
       "bed_type                      Real Bed\n",
       "price                            172.0\n",
       "extra_people                      50.0\n",
       "minimum_nights                       2\n",
       "instant_bookable                     t\n",
       "is_business_travel_ready             f\n",
       "cancellation_policy           flexible\n",
       "ano                               2020\n",
       "mes                                  3\n",
       "n_amenities                         12"
      ]
     },
     "execution_count": 147,
     "metadata": {},
     "output_type": "execute_result"
    }
   ],
   "source": [
    " df14.sample().T"
   ]
  },
  {
   "cell_type": "code",
   "execution_count": 148,
   "metadata": {},
   "outputs": [
    {
     "data": {
      "text/plain": [
       "Real Bed    546567\n",
       "Outros       11073\n",
       "Name: bed_type, dtype: int64"
      ]
     },
     "execution_count": 148,
     "metadata": {},
     "output_type": "execute_result"
    }
   ],
   "source": [
    "colunas_tf = ['host_is_superhost', 'instant_bookable', 'is_business_travel_ready']\n",
    "colunas_categorias = ['property_type', 'room_type', 'cancellation_policy']\n",
    "df14.bed_type.value_counts()"
   ]
  },
  {
   "cell_type": "code",
   "execution_count": 149,
   "metadata": {},
   "outputs": [
    {
     "name": "stderr",
     "output_type": "stream",
     "text": [
      "C:\\Users\\Renato\\anaconda3\\lib\\site-packages\\pandas\\core\\indexing.py:1720: SettingWithCopyWarning:\n",
      "\n",
      "\n",
      "A value is trying to be set on a copy of a slice from a DataFrame.\n",
      "Try using .loc[row_indexer,col_indexer] = value instead\n",
      "\n",
      "See the caveats in the documentation: https://pandas.pydata.org/pandas-docs/stable/user_guide/indexing.html#returning-a-view-versus-a-copy\n",
      "\n"
     ]
    }
   ],
   "source": [
    "df14.loc[df14.bed_type == 'Real Bed', 'bed_type']=1\n",
    "df14.loc[df14.bed_type == 'Outros', 'bed_type']=0"
   ]
  },
  {
   "cell_type": "code",
   "execution_count": 150,
   "metadata": {},
   "outputs": [
    {
     "data": {
      "text/plain": [
       "1    546567\n",
       "0     11073\n",
       "Name: bed_type, dtype: int64"
      ]
     },
     "execution_count": 150,
     "metadata": {},
     "output_type": "execute_result"
    }
   ],
   "source": [
    "df14.bed_type.value_counts()"
   ]
  },
  {
   "cell_type": "code",
   "execution_count": 151,
   "metadata": {},
   "outputs": [],
   "source": [
    "for coluna in colunas_tf:\n",
    "    df14.loc[df14[coluna] == 't', coluna]=1\n",
    "    df14.loc[df14[coluna] == 'f', coluna]=0"
   ]
  },
  {
   "cell_type": "code",
   "execution_count": 152,
   "metadata": {},
   "outputs": [
    {
     "data": {
      "text/html": [
       "<div>\n",
       "<style scoped>\n",
       "    .dataframe tbody tr th:only-of-type {\n",
       "        vertical-align: middle;\n",
       "    }\n",
       "\n",
       "    .dataframe tbody tr th {\n",
       "        vertical-align: top;\n",
       "    }\n",
       "\n",
       "    .dataframe thead th {\n",
       "        text-align: right;\n",
       "    }\n",
       "</style>\n",
       "<table border=\"1\" class=\"dataframe\">\n",
       "  <thead>\n",
       "    <tr style=\"text-align: right;\">\n",
       "      <th></th>\n",
       "      <th>property_type</th>\n",
       "      <th>room_type</th>\n",
       "      <th>cancellation_policy</th>\n",
       "    </tr>\n",
       "  </thead>\n",
       "  <tbody>\n",
       "    <tr>\n",
       "      <th>1</th>\n",
       "      <td>Condominium</td>\n",
       "      <td>Entire home/apt</td>\n",
       "      <td>strict</td>\n",
       "    </tr>\n",
       "    <tr>\n",
       "      <th>3</th>\n",
       "      <td>Apartment</td>\n",
       "      <td>Entire home/apt</td>\n",
       "      <td>strict</td>\n",
       "    </tr>\n",
       "    <tr>\n",
       "      <th>4</th>\n",
       "      <td>Apartment</td>\n",
       "      <td>Entire home/apt</td>\n",
       "      <td>strict</td>\n",
       "    </tr>\n",
       "    <tr>\n",
       "      <th>5</th>\n",
       "      <td>Apartment</td>\n",
       "      <td>Entire home/apt</td>\n",
       "      <td>strict</td>\n",
       "    </tr>\n",
       "    <tr>\n",
       "      <th>6</th>\n",
       "      <td>Loft</td>\n",
       "      <td>Entire home/apt</td>\n",
       "      <td>strict</td>\n",
       "    </tr>\n",
       "  </tbody>\n",
       "</table>\n",
       "</div>"
      ],
      "text/plain": [
       "  property_type        room_type cancellation_policy\n",
       "1   Condominium  Entire home/apt              strict\n",
       "3     Apartment  Entire home/apt              strict\n",
       "4     Apartment  Entire home/apt              strict\n",
       "5     Apartment  Entire home/apt              strict\n",
       "6          Loft  Entire home/apt              strict"
      ]
     },
     "execution_count": 152,
     "metadata": {},
     "output_type": "execute_result"
    }
   ],
   "source": [
    "df14[colunas_categorias].head()"
   ]
  },
  {
   "cell_type": "code",
   "execution_count": 153,
   "metadata": {},
   "outputs": [],
   "source": [
    "df15 = pd.get_dummies(data=df14, columns=colunas_categorias)"
   ]
  },
  {
   "cell_type": "code",
   "execution_count": 154,
   "metadata": {},
   "outputs": [
    {
     "data": {
      "text/html": [
       "<div>\n",
       "<style scoped>\n",
       "    .dataframe tbody tr th:only-of-type {\n",
       "        vertical-align: middle;\n",
       "    }\n",
       "\n",
       "    .dataframe tbody tr th {\n",
       "        vertical-align: top;\n",
       "    }\n",
       "\n",
       "    .dataframe thead th {\n",
       "        text-align: right;\n",
       "    }\n",
       "</style>\n",
       "<table border=\"1\" class=\"dataframe\">\n",
       "  <thead>\n",
       "    <tr style=\"text-align: right;\">\n",
       "      <th></th>\n",
       "      <th>12766</th>\n",
       "    </tr>\n",
       "  </thead>\n",
       "  <tbody>\n",
       "    <tr>\n",
       "      <th>host_is_superhost</th>\n",
       "      <td>0</td>\n",
       "    </tr>\n",
       "    <tr>\n",
       "      <th>host_listings_count</th>\n",
       "      <td>2.0</td>\n",
       "    </tr>\n",
       "    <tr>\n",
       "      <th>latitude</th>\n",
       "      <td>-22.984491</td>\n",
       "    </tr>\n",
       "    <tr>\n",
       "      <th>longitude</th>\n",
       "      <td>-43.203295</td>\n",
       "    </tr>\n",
       "    <tr>\n",
       "      <th>accommodates</th>\n",
       "      <td>6</td>\n",
       "    </tr>\n",
       "    <tr>\n",
       "      <th>bathrooms</th>\n",
       "      <td>3.0</td>\n",
       "    </tr>\n",
       "    <tr>\n",
       "      <th>bedrooms</th>\n",
       "      <td>2.0</td>\n",
       "    </tr>\n",
       "    <tr>\n",
       "      <th>beds</th>\n",
       "      <td>4.0</td>\n",
       "    </tr>\n",
       "    <tr>\n",
       "      <th>bed_type</th>\n",
       "      <td>1</td>\n",
       "    </tr>\n",
       "    <tr>\n",
       "      <th>price</th>\n",
       "      <td>601.0</td>\n",
       "    </tr>\n",
       "    <tr>\n",
       "      <th>extra_people</th>\n",
       "      <td>100.0</td>\n",
       "    </tr>\n",
       "    <tr>\n",
       "      <th>minimum_nights</th>\n",
       "      <td>3</td>\n",
       "    </tr>\n",
       "    <tr>\n",
       "      <th>instant_bookable</th>\n",
       "      <td>0</td>\n",
       "    </tr>\n",
       "    <tr>\n",
       "      <th>is_business_travel_ready</th>\n",
       "      <td>0</td>\n",
       "    </tr>\n",
       "    <tr>\n",
       "      <th>ano</th>\n",
       "      <td>2018</td>\n",
       "    </tr>\n",
       "    <tr>\n",
       "      <th>mes</th>\n",
       "      <td>4</td>\n",
       "    </tr>\n",
       "    <tr>\n",
       "      <th>n_amenities</th>\n",
       "      <td>23</td>\n",
       "    </tr>\n",
       "    <tr>\n",
       "      <th>property_type_Apartment</th>\n",
       "      <td>1</td>\n",
       "    </tr>\n",
       "    <tr>\n",
       "      <th>property_type_Bed and breakfast</th>\n",
       "      <td>0</td>\n",
       "    </tr>\n",
       "    <tr>\n",
       "      <th>property_type_Condominium</th>\n",
       "      <td>0</td>\n",
       "    </tr>\n",
       "    <tr>\n",
       "      <th>property_type_Guest suite</th>\n",
       "      <td>0</td>\n",
       "    </tr>\n",
       "    <tr>\n",
       "      <th>property_type_Guesthouse</th>\n",
       "      <td>0</td>\n",
       "    </tr>\n",
       "    <tr>\n",
       "      <th>property_type_Hostel</th>\n",
       "      <td>0</td>\n",
       "    </tr>\n",
       "    <tr>\n",
       "      <th>property_type_House</th>\n",
       "      <td>0</td>\n",
       "    </tr>\n",
       "    <tr>\n",
       "      <th>property_type_Loft</th>\n",
       "      <td>0</td>\n",
       "    </tr>\n",
       "    <tr>\n",
       "      <th>property_type_Outros</th>\n",
       "      <td>0</td>\n",
       "    </tr>\n",
       "    <tr>\n",
       "      <th>property_type_Serviced apartment</th>\n",
       "      <td>0</td>\n",
       "    </tr>\n",
       "    <tr>\n",
       "      <th>room_type_Entire home/apt</th>\n",
       "      <td>1</td>\n",
       "    </tr>\n",
       "    <tr>\n",
       "      <th>room_type_Hotel room</th>\n",
       "      <td>0</td>\n",
       "    </tr>\n",
       "    <tr>\n",
       "      <th>room_type_Private room</th>\n",
       "      <td>0</td>\n",
       "    </tr>\n",
       "    <tr>\n",
       "      <th>room_type_Shared room</th>\n",
       "      <td>0</td>\n",
       "    </tr>\n",
       "    <tr>\n",
       "      <th>cancellation_policy_flexible</th>\n",
       "      <td>0</td>\n",
       "    </tr>\n",
       "    <tr>\n",
       "      <th>cancellation_policy_moderate</th>\n",
       "      <td>1</td>\n",
       "    </tr>\n",
       "    <tr>\n",
       "      <th>cancellation_policy_strict</th>\n",
       "      <td>0</td>\n",
       "    </tr>\n",
       "    <tr>\n",
       "      <th>cancellation_policy_strict_14_with_grace_period</th>\n",
       "      <td>0</td>\n",
       "    </tr>\n",
       "  </tbody>\n",
       "</table>\n",
       "</div>"
      ],
      "text/plain": [
       "                                                     12766\n",
       "host_is_superhost                                        0\n",
       "host_listings_count                                    2.0\n",
       "latitude                                        -22.984491\n",
       "longitude                                       -43.203295\n",
       "accommodates                                             6\n",
       "bathrooms                                              3.0\n",
       "bedrooms                                               2.0\n",
       "beds                                                   4.0\n",
       "bed_type                                                 1\n",
       "price                                                601.0\n",
       "extra_people                                         100.0\n",
       "minimum_nights                                           3\n",
       "instant_bookable                                         0\n",
       "is_business_travel_ready                                 0\n",
       "ano                                                   2018\n",
       "mes                                                      4\n",
       "n_amenities                                             23\n",
       "property_type_Apartment                                  1\n",
       "property_type_Bed and breakfast                          0\n",
       "property_type_Condominium                                0\n",
       "property_type_Guest suite                                0\n",
       "property_type_Guesthouse                                 0\n",
       "property_type_Hostel                                     0\n",
       "property_type_House                                      0\n",
       "property_type_Loft                                       0\n",
       "property_type_Outros                                     0\n",
       "property_type_Serviced apartment                         0\n",
       "room_type_Entire home/apt                                1\n",
       "room_type_Hotel room                                     0\n",
       "room_type_Private room                                   0\n",
       "room_type_Shared room                                    0\n",
       "cancellation_policy_flexible                             0\n",
       "cancellation_policy_moderate                             1\n",
       "cancellation_policy_strict                               0\n",
       "cancellation_policy_strict_14_with_grace_period          0"
      ]
     },
     "execution_count": 154,
     "metadata": {},
     "output_type": "execute_result"
    }
   ],
   "source": [
    "df15.sample().T"
   ]
  },
  {
   "cell_type": "code",
   "execution_count": 155,
   "metadata": {},
   "outputs": [
    {
     "name": "stdout",
     "output_type": "stream",
     "text": [
      "<class 'pandas.core.frame.DataFrame'>\n",
      "Int64Index: 557640 entries, 1 to 34328\n",
      "Data columns (total 35 columns):\n",
      " #   Column                                           Non-Null Count   Dtype  \n",
      "---  ------                                           --------------   -----  \n",
      " 0   host_is_superhost                                557640 non-null  object \n",
      " 1   host_listings_count                              557640 non-null  float64\n",
      " 2   latitude                                         557640 non-null  float64\n",
      " 3   longitude                                        557640 non-null  float64\n",
      " 4   accommodates                                     557640 non-null  int64  \n",
      " 5   bathrooms                                        557640 non-null  float64\n",
      " 6   bedrooms                                         557640 non-null  float64\n",
      " 7   beds                                             557640 non-null  float64\n",
      " 8   bed_type                                         557640 non-null  object \n",
      " 9   price                                            557640 non-null  float32\n",
      " 10  extra_people                                     557640 non-null  float32\n",
      " 11  minimum_nights                                   557640 non-null  int64  \n",
      " 12  instant_bookable                                 557640 non-null  object \n",
      " 13  is_business_travel_ready                         557640 non-null  object \n",
      " 14  ano                                              557640 non-null  int64  \n",
      " 15  mes                                              557640 non-null  int64  \n",
      " 16  n_amenities                                      557640 non-null  int64  \n",
      " 17  property_type_Apartment                          557640 non-null  uint8  \n",
      " 18  property_type_Bed and breakfast                  557640 non-null  uint8  \n",
      " 19  property_type_Condominium                        557640 non-null  uint8  \n",
      " 20  property_type_Guest suite                        557640 non-null  uint8  \n",
      " 21  property_type_Guesthouse                         557640 non-null  uint8  \n",
      " 22  property_type_Hostel                             557640 non-null  uint8  \n",
      " 23  property_type_House                              557640 non-null  uint8  \n",
      " 24  property_type_Loft                               557640 non-null  uint8  \n",
      " 25  property_type_Outros                             557640 non-null  uint8  \n",
      " 26  property_type_Serviced apartment                 557640 non-null  uint8  \n",
      " 27  room_type_Entire home/apt                        557640 non-null  uint8  \n",
      " 28  room_type_Hotel room                             557640 non-null  uint8  \n",
      " 29  room_type_Private room                           557640 non-null  uint8  \n",
      " 30  room_type_Shared room                            557640 non-null  uint8  \n",
      " 31  cancellation_policy_flexible                     557640 non-null  uint8  \n",
      " 32  cancellation_policy_moderate                     557640 non-null  uint8  \n",
      " 33  cancellation_policy_strict                       557640 non-null  uint8  \n",
      " 34  cancellation_policy_strict_14_with_grace_period  557640 non-null  uint8  \n",
      "dtypes: float32(2), float64(6), int64(5), object(4), uint8(18)\n",
      "memory usage: 81.9+ MB\n"
     ]
    }
   ],
   "source": [
    "df15.info()"
   ]
  },
  {
   "cell_type": "markdown",
   "metadata": {},
   "source": [
    "###  <a name=\"checkpoint_2\"> Checkpoint 2 - df15 </a>"
   ]
  },
  {
   "cell_type": "markdown",
   "metadata": {},
   "source": [
    "### Data Frame preprocessado pronto para o modelo de previsão"
   ]
  },
  {
   "cell_type": "code",
   "execution_count": 156,
   "metadata": {},
   "outputs": [],
   "source": [
    "df15.to_parquet('df15.parquet')"
   ]
  },
  {
   "cell_type": "markdown",
   "metadata": {},
   "source": [
    "#  <a name=\"secao_6\"> Seção 6 - Modelo de Previsão</a>\n",
    "[Voltar ao índice](#indice)"
   ]
  },
  {
   "cell_type": "markdown",
   "metadata": {},
   "source": [
    "Carregando o DF df15, ja preparado (formatado) para aprendizagem e teste"
   ]
  },
  {
   "cell_type": "code",
   "execution_count": null,
   "metadata": {},
   "outputs": [],
   "source": [
    "df15 = pd.read_parquet('df15.parquet')"
   ]
  },
  {
   "cell_type": "markdown",
   "metadata": {},
   "source": [
    "Importando as Bibliotécas/Módulos do SciKit Learn"
   ]
  },
  {
   "cell_type": "code",
   "execution_count": 157,
   "metadata": {},
   "outputs": [],
   "source": [
    "from sklearn.metrics import r2_score, mean_squared_error\n",
    "from sklearn.model_selection import train_test_split\n",
    "from sklearn.linear_model import LinearRegression\n",
    "from sklearn.ensemble import RandomForestRegressor, ExtraTreesRegressor"
   ]
  },
  {
   "cell_type": "markdown",
   "metadata": {},
   "source": [
    "- Separando as colunas:\n",
    "X = 'Features'\n",
    "da coluna \n",
    "y = 'Prediction Target'"
   ]
  },
  {
   "cell_type": "code",
   "execution_count": 158,
   "metadata": {},
   "outputs": [],
   "source": [
    "y = df15.price\n",
    "X = df15.drop('price', axis=1)"
   ]
  },
  {
   "cell_type": "markdown",
   "metadata": {},
   "source": [
    "- Separando os valores de treino (train_X e train_y) e teste (val_X e val_y)"
   ]
  },
  {
   "cell_type": "code",
   "execution_count": 159,
   "metadata": {},
   "outputs": [],
   "source": [
    "train_X, val_X, train_y, val_y = train_test_split(X, y, random_state=10)"
   ]
  },
  {
   "cell_type": "markdown",
   "metadata": {},
   "source": [
    "- Instanciando os modelos:\n",
    "    - Linear Regression\n",
    "    - Random Forest Regressor\n",
    "    - Extra Trees Regressor"
   ]
  },
  {
   "cell_type": "code",
   "execution_count": 160,
   "metadata": {},
   "outputs": [],
   "source": [
    "modelo_lr = LinearRegression()\n",
    "modelo_rf = RandomForestRegressor()\n",
    "modelo_et = ExtraTreesRegressor()"
   ]
  },
  {
   "cell_type": "markdown",
   "metadata": {},
   "source": [
    "#### Treinando e testando o Modelo: Linear Regression"
   ]
  },
  {
   "cell_type": "code",
   "execution_count": 161,
   "metadata": {},
   "outputs": [],
   "source": [
    "modelo_lr.fit(train_X, train_y)\n",
    "val_predictions = modelo_lr.predict(val_X)"
   ]
  },
  {
   "cell_type": "markdown",
   "metadata": {},
   "source": [
    "- Medindo (os resultados do) Modelo Linear Regression"
   ]
  },
  {
   "cell_type": "code",
   "execution_count": 162,
   "metadata": {},
   "outputs": [
    {
     "name": "stdout",
     "output_type": "stream",
     "text": [
      "R2: 32.70%, RMSE: 217.54\n"
     ]
    }
   ],
   "source": [
    "r2 = r2_score(val_y, val_predictions)\n",
    "rmse = np.sqrt(mean_squared_error(val_y, val_predictions))\n",
    "print('R2: {:.2%}, RMSE: {:.2f}'.format(r2, rmse))"
   ]
  },
  {
   "cell_type": "markdown",
   "metadata": {},
   "source": [
    "#### Treinando e testando o Modelo: Random Forest Regressor"
   ]
  },
  {
   "cell_type": "code",
   "execution_count": 163,
   "metadata": {},
   "outputs": [],
   "source": [
    "modelo_rf.fit(train_X, train_y)\n",
    "val_predictions_rf = modelo_rf.predict(val_X)"
   ]
  },
  {
   "cell_type": "markdown",
   "metadata": {},
   "source": [
    "- Medindo (os resultados do) Modelo Random Forest Regressor"
   ]
  },
  {
   "cell_type": "code",
   "execution_count": 164,
   "metadata": {},
   "outputs": [
    {
     "name": "stdout",
     "output_type": "stream",
     "text": [
      "R2: 97.24%,\n",
      "RMSE: 44.07\n"
     ]
    }
   ],
   "source": [
    "r2 = r2_score(val_y, val_predictions_rf)\n",
    "rmse = np.sqrt(mean_squared_error(val_y, val_predictions_rf))\n",
    "print('R2: {:.2%},\\nRMSE: {:.2f}'.format(r2, rmse))"
   ]
  },
  {
   "cell_type": "markdown",
   "metadata": {},
   "source": [
    "#### Treinando e testando o Modelo: Extra Trees Regressor"
   ]
  },
  {
   "cell_type": "code",
   "execution_count": 165,
   "metadata": {},
   "outputs": [],
   "source": [
    "modelo_et.fit(train_X, train_y)\n",
    "val_predictions_et = modelo_et.predict(val_X)"
   ]
  },
  {
   "cell_type": "markdown",
   "metadata": {},
   "source": [
    "- Medindo (os resultados do) Modelo Extra Trees Regressor"
   ]
  },
  {
   "cell_type": "code",
   "execution_count": 166,
   "metadata": {},
   "outputs": [
    {
     "name": "stdout",
     "output_type": "stream",
     "text": [
      "R2: 97.49%\n",
      "RMSE: 41.97\n"
     ]
    }
   ],
   "source": [
    "r2 = r2_score(val_y, val_predictions_et)\n",
    "rmse = np.sqrt(mean_squared_error(val_y, val_predictions_et))\n",
    "print(f'R2: {r2:.2%}\\nRMSE: {rmse:.2f}')"
   ]
  },
  {
   "cell_type": "markdown",
   "metadata": {},
   "source": [
    "#  <a name=\"secao_7\"> Seção 7 - Análise do Melhor Modelo</a>\n",
    "[Voltar ao índice](#indice)"
   ]
  },
  {
   "cell_type": "code",
   "execution_count": 167,
   "metadata": {},
   "outputs": [
    {
     "data": {
      "text/html": [
       "<div>\n",
       "<style scoped>\n",
       "    .dataframe tbody tr th:only-of-type {\n",
       "        vertical-align: middle;\n",
       "    }\n",
       "\n",
       "    .dataframe tbody tr th {\n",
       "        vertical-align: top;\n",
       "    }\n",
       "\n",
       "    .dataframe thead th {\n",
       "        text-align: right;\n",
       "    }\n",
       "</style>\n",
       "<table border=\"1\" class=\"dataframe\">\n",
       "  <thead>\n",
       "    <tr style=\"text-align: right;\">\n",
       "      <th></th>\n",
       "      <th>0</th>\n",
       "    </tr>\n",
       "  </thead>\n",
       "  <tbody>\n",
       "    <tr>\n",
       "      <th>host_is_superhost</th>\n",
       "      <td>0.012988</td>\n",
       "    </tr>\n",
       "    <tr>\n",
       "      <th>host_listings_count</th>\n",
       "      <td>0.039712</td>\n",
       "    </tr>\n",
       "    <tr>\n",
       "      <th>latitude</th>\n",
       "      <td>0.103840</td>\n",
       "    </tr>\n",
       "    <tr>\n",
       "      <th>longitude</th>\n",
       "      <td>0.101778</td>\n",
       "    </tr>\n",
       "    <tr>\n",
       "      <th>accommodates</th>\n",
       "      <td>0.075764</td>\n",
       "    </tr>\n",
       "    <tr>\n",
       "      <th>bathrooms</th>\n",
       "      <td>0.066879</td>\n",
       "    </tr>\n",
       "    <tr>\n",
       "      <th>bedrooms</th>\n",
       "      <td>0.117242</td>\n",
       "    </tr>\n",
       "    <tr>\n",
       "      <th>beds</th>\n",
       "      <td>0.052896</td>\n",
       "    </tr>\n",
       "    <tr>\n",
       "      <th>bed_type</th>\n",
       "      <td>0.005209</td>\n",
       "    </tr>\n",
       "    <tr>\n",
       "      <th>extra_people</th>\n",
       "      <td>0.087930</td>\n",
       "    </tr>\n",
       "    <tr>\n",
       "      <th>minimum_nights</th>\n",
       "      <td>0.064877</td>\n",
       "    </tr>\n",
       "    <tr>\n",
       "      <th>instant_bookable</th>\n",
       "      <td>0.021956</td>\n",
       "    </tr>\n",
       "    <tr>\n",
       "      <th>is_business_travel_ready</th>\n",
       "      <td>0.000000</td>\n",
       "    </tr>\n",
       "    <tr>\n",
       "      <th>ano</th>\n",
       "      <td>0.011247</td>\n",
       "    </tr>\n",
       "    <tr>\n",
       "      <th>mes</th>\n",
       "      <td>0.004695</td>\n",
       "    </tr>\n",
       "    <tr>\n",
       "      <th>n_amenities</th>\n",
       "      <td>0.089179</td>\n",
       "    </tr>\n",
       "    <tr>\n",
       "      <th>property_type_Apartment</th>\n",
       "      <td>0.012759</td>\n",
       "    </tr>\n",
       "    <tr>\n",
       "      <th>property_type_Bed and breakfast</th>\n",
       "      <td>0.001308</td>\n",
       "    </tr>\n",
       "    <tr>\n",
       "      <th>property_type_Condominium</th>\n",
       "      <td>0.005152</td>\n",
       "    </tr>\n",
       "    <tr>\n",
       "      <th>property_type_Guest suite</th>\n",
       "      <td>0.000669</td>\n",
       "    </tr>\n",
       "    <tr>\n",
       "      <th>property_type_Guesthouse</th>\n",
       "      <td>0.000945</td>\n",
       "    </tr>\n",
       "    <tr>\n",
       "      <th>property_type_Hostel</th>\n",
       "      <td>0.000651</td>\n",
       "    </tr>\n",
       "    <tr>\n",
       "      <th>property_type_House</th>\n",
       "      <td>0.007158</td>\n",
       "    </tr>\n",
       "    <tr>\n",
       "      <th>property_type_Loft</th>\n",
       "      <td>0.002180</td>\n",
       "    </tr>\n",
       "    <tr>\n",
       "      <th>property_type_Outros</th>\n",
       "      <td>0.002431</td>\n",
       "    </tr>\n",
       "    <tr>\n",
       "      <th>property_type_Serviced apartment</th>\n",
       "      <td>0.002211</td>\n",
       "    </tr>\n",
       "    <tr>\n",
       "      <th>room_type_Entire home/apt</th>\n",
       "      <td>0.061776</td>\n",
       "    </tr>\n",
       "    <tr>\n",
       "      <th>room_type_Hotel room</th>\n",
       "      <td>0.000303</td>\n",
       "    </tr>\n",
       "    <tr>\n",
       "      <th>room_type_Private room</th>\n",
       "      <td>0.004109</td>\n",
       "    </tr>\n",
       "    <tr>\n",
       "      <th>room_type_Shared room</th>\n",
       "      <td>0.001851</td>\n",
       "    </tr>\n",
       "    <tr>\n",
       "      <th>cancellation_policy_flexible</th>\n",
       "      <td>0.019489</td>\n",
       "    </tr>\n",
       "    <tr>\n",
       "      <th>cancellation_policy_moderate</th>\n",
       "      <td>0.012219</td>\n",
       "    </tr>\n",
       "    <tr>\n",
       "      <th>cancellation_policy_strict</th>\n",
       "      <td>0.000860</td>\n",
       "    </tr>\n",
       "    <tr>\n",
       "      <th>cancellation_policy_strict_14_with_grace_period</th>\n",
       "      <td>0.007738</td>\n",
       "    </tr>\n",
       "  </tbody>\n",
       "</table>\n",
       "</div>"
      ],
      "text/plain": [
       "                                                        0\n",
       "host_is_superhost                                0.012988\n",
       "host_listings_count                              0.039712\n",
       "latitude                                         0.103840\n",
       "longitude                                        0.101778\n",
       "accommodates                                     0.075764\n",
       "bathrooms                                        0.066879\n",
       "bedrooms                                         0.117242\n",
       "beds                                             0.052896\n",
       "bed_type                                         0.005209\n",
       "extra_people                                     0.087930\n",
       "minimum_nights                                   0.064877\n",
       "instant_bookable                                 0.021956\n",
       "is_business_travel_ready                         0.000000\n",
       "ano                                              0.011247\n",
       "mes                                              0.004695\n",
       "n_amenities                                      0.089179\n",
       "property_type_Apartment                          0.012759\n",
       "property_type_Bed and breakfast                  0.001308\n",
       "property_type_Condominium                        0.005152\n",
       "property_type_Guest suite                        0.000669\n",
       "property_type_Guesthouse                         0.000945\n",
       "property_type_Hostel                             0.000651\n",
       "property_type_House                              0.007158\n",
       "property_type_Loft                               0.002180\n",
       "property_type_Outros                             0.002431\n",
       "property_type_Serviced apartment                 0.002211\n",
       "room_type_Entire home/apt                        0.061776\n",
       "room_type_Hotel room                             0.000303\n",
       "room_type_Private room                           0.004109\n",
       "room_type_Shared room                            0.001851\n",
       "cancellation_policy_flexible                     0.019489\n",
       "cancellation_policy_moderate                     0.012219\n",
       "cancellation_policy_strict                       0.000860\n",
       "cancellation_policy_strict_14_with_grace_period  0.007738"
      ]
     },
     "metadata": {},
     "output_type": "display_data"
    }
   ],
   "source": [
    "importances_valores = modelo_et.feature_importances_\n",
    "colunas_X = X.columns\n",
    "\n",
    "df_imp = pd.DataFrame(importances_valores, colunas_X)\n",
    "display(df_imp)"
   ]
  },
  {
   "cell_type": "code",
   "execution_count": 168,
   "metadata": {},
   "outputs": [
    {
     "data": {
      "text/html": [
       "<div>\n",
       "<style scoped>\n",
       "    .dataframe tbody tr th:only-of-type {\n",
       "        vertical-align: middle;\n",
       "    }\n",
       "\n",
       "    .dataframe tbody tr th {\n",
       "        vertical-align: top;\n",
       "    }\n",
       "\n",
       "    .dataframe thead th {\n",
       "        text-align: right;\n",
       "    }\n",
       "</style>\n",
       "<table border=\"1\" class=\"dataframe\">\n",
       "  <thead>\n",
       "    <tr style=\"text-align: right;\">\n",
       "      <th></th>\n",
       "      <th>0</th>\n",
       "    </tr>\n",
       "  </thead>\n",
       "  <tbody>\n",
       "    <tr>\n",
       "      <th>bedrooms</th>\n",
       "      <td>0.117242</td>\n",
       "    </tr>\n",
       "    <tr>\n",
       "      <th>latitude</th>\n",
       "      <td>0.103840</td>\n",
       "    </tr>\n",
       "    <tr>\n",
       "      <th>longitude</th>\n",
       "      <td>0.101778</td>\n",
       "    </tr>\n",
       "    <tr>\n",
       "      <th>n_amenities</th>\n",
       "      <td>0.089179</td>\n",
       "    </tr>\n",
       "    <tr>\n",
       "      <th>extra_people</th>\n",
       "      <td>0.087930</td>\n",
       "    </tr>\n",
       "    <tr>\n",
       "      <th>accommodates</th>\n",
       "      <td>0.075764</td>\n",
       "    </tr>\n",
       "    <tr>\n",
       "      <th>bathrooms</th>\n",
       "      <td>0.066879</td>\n",
       "    </tr>\n",
       "    <tr>\n",
       "      <th>minimum_nights</th>\n",
       "      <td>0.064877</td>\n",
       "    </tr>\n",
       "    <tr>\n",
       "      <th>room_type_Entire home/apt</th>\n",
       "      <td>0.061776</td>\n",
       "    </tr>\n",
       "    <tr>\n",
       "      <th>beds</th>\n",
       "      <td>0.052896</td>\n",
       "    </tr>\n",
       "    <tr>\n",
       "      <th>host_listings_count</th>\n",
       "      <td>0.039712</td>\n",
       "    </tr>\n",
       "    <tr>\n",
       "      <th>instant_bookable</th>\n",
       "      <td>0.021956</td>\n",
       "    </tr>\n",
       "    <tr>\n",
       "      <th>cancellation_policy_flexible</th>\n",
       "      <td>0.019489</td>\n",
       "    </tr>\n",
       "    <tr>\n",
       "      <th>host_is_superhost</th>\n",
       "      <td>0.012988</td>\n",
       "    </tr>\n",
       "    <tr>\n",
       "      <th>property_type_Apartment</th>\n",
       "      <td>0.012759</td>\n",
       "    </tr>\n",
       "    <tr>\n",
       "      <th>cancellation_policy_moderate</th>\n",
       "      <td>0.012219</td>\n",
       "    </tr>\n",
       "    <tr>\n",
       "      <th>ano</th>\n",
       "      <td>0.011247</td>\n",
       "    </tr>\n",
       "    <tr>\n",
       "      <th>cancellation_policy_strict_14_with_grace_period</th>\n",
       "      <td>0.007738</td>\n",
       "    </tr>\n",
       "    <tr>\n",
       "      <th>property_type_House</th>\n",
       "      <td>0.007158</td>\n",
       "    </tr>\n",
       "    <tr>\n",
       "      <th>bed_type</th>\n",
       "      <td>0.005209</td>\n",
       "    </tr>\n",
       "    <tr>\n",
       "      <th>property_type_Condominium</th>\n",
       "      <td>0.005152</td>\n",
       "    </tr>\n",
       "    <tr>\n",
       "      <th>mes</th>\n",
       "      <td>0.004695</td>\n",
       "    </tr>\n",
       "    <tr>\n",
       "      <th>room_type_Private room</th>\n",
       "      <td>0.004109</td>\n",
       "    </tr>\n",
       "    <tr>\n",
       "      <th>property_type_Outros</th>\n",
       "      <td>0.002431</td>\n",
       "    </tr>\n",
       "    <tr>\n",
       "      <th>property_type_Serviced apartment</th>\n",
       "      <td>0.002211</td>\n",
       "    </tr>\n",
       "    <tr>\n",
       "      <th>property_type_Loft</th>\n",
       "      <td>0.002180</td>\n",
       "    </tr>\n",
       "    <tr>\n",
       "      <th>room_type_Shared room</th>\n",
       "      <td>0.001851</td>\n",
       "    </tr>\n",
       "    <tr>\n",
       "      <th>property_type_Bed and breakfast</th>\n",
       "      <td>0.001308</td>\n",
       "    </tr>\n",
       "    <tr>\n",
       "      <th>property_type_Guesthouse</th>\n",
       "      <td>0.000945</td>\n",
       "    </tr>\n",
       "    <tr>\n",
       "      <th>cancellation_policy_strict</th>\n",
       "      <td>0.000860</td>\n",
       "    </tr>\n",
       "    <tr>\n",
       "      <th>property_type_Guest suite</th>\n",
       "      <td>0.000669</td>\n",
       "    </tr>\n",
       "    <tr>\n",
       "      <th>property_type_Hostel</th>\n",
       "      <td>0.000651</td>\n",
       "    </tr>\n",
       "    <tr>\n",
       "      <th>room_type_Hotel room</th>\n",
       "      <td>0.000303</td>\n",
       "    </tr>\n",
       "    <tr>\n",
       "      <th>is_business_travel_ready</th>\n",
       "      <td>0.000000</td>\n",
       "    </tr>\n",
       "  </tbody>\n",
       "</table>\n",
       "</div>"
      ],
      "text/plain": [
       "                                                        0\n",
       "bedrooms                                         0.117242\n",
       "latitude                                         0.103840\n",
       "longitude                                        0.101778\n",
       "n_amenities                                      0.089179\n",
       "extra_people                                     0.087930\n",
       "accommodates                                     0.075764\n",
       "bathrooms                                        0.066879\n",
       "minimum_nights                                   0.064877\n",
       "room_type_Entire home/apt                        0.061776\n",
       "beds                                             0.052896\n",
       "host_listings_count                              0.039712\n",
       "instant_bookable                                 0.021956\n",
       "cancellation_policy_flexible                     0.019489\n",
       "host_is_superhost                                0.012988\n",
       "property_type_Apartment                          0.012759\n",
       "cancellation_policy_moderate                     0.012219\n",
       "ano                                              0.011247\n",
       "cancellation_policy_strict_14_with_grace_period  0.007738\n",
       "property_type_House                              0.007158\n",
       "bed_type                                         0.005209\n",
       "property_type_Condominium                        0.005152\n",
       "mes                                              0.004695\n",
       "room_type_Private room                           0.004109\n",
       "property_type_Outros                             0.002431\n",
       "property_type_Serviced apartment                 0.002211\n",
       "property_type_Loft                               0.002180\n",
       "room_type_Shared room                            0.001851\n",
       "property_type_Bed and breakfast                  0.001308\n",
       "property_type_Guesthouse                         0.000945\n",
       "cancellation_policy_strict                       0.000860\n",
       "property_type_Guest suite                        0.000669\n",
       "property_type_Hostel                             0.000651\n",
       "room_type_Hotel room                             0.000303\n",
       "is_business_travel_ready                         0.000000"
      ]
     },
     "metadata": {},
     "output_type": "display_data"
    },
    {
     "data": {
      "text/plain": [
       "<AxesSubplot:xlabel='0'>"
      ]
     },
     "execution_count": 168,
     "metadata": {},
     "output_type": "execute_result"
    },
    {
     "data": {
      "image/png": "[encoded data removed]",
      "text/plain": [
       "<Figure size 576x864 with 1 Axes>"
      ]
     },
     "metadata": {
      "needs_background": "light"
     },
     "output_type": "display_data"
    }
   ],
   "source": [
    "df_imp = df_imp.sort_values(by=0, ascending=False)\n",
    "display(df_imp)\n",
    "plt.figure(figsize=(8, 12))\n",
    "sns.barplot(x=df_imp[0], y=df_imp.index)"
   ]
  },
  {
   "cell_type": "markdown",
   "metadata": {},
   "source": [
    "### Ajustes e Melhorias no Melhor Modelo"
   ]
  },
  {
   "cell_type": "code",
   "execution_count": 169,
   "metadata": {},
   "outputs": [
    {
     "data": {
      "text/plain": [
       "Index(['bedrooms', 'latitude', 'longitude', 'n_amenities', 'extra_people',\n",
       "       'accommodates', 'bathrooms', 'minimum_nights',\n",
       "       'room_type_Entire home/apt', 'beds', 'host_listings_count',\n",
       "       'instant_bookable', 'cancellation_policy_flexible', 'host_is_superhost',\n",
       "       'property_type_Apartment', 'cancellation_policy_moderate', 'ano',\n",
       "       'cancellation_policy_strict_14_with_grace_period',\n",
       "       'property_type_House', 'bed_type', 'property_type_Condominium', 'mes',\n",
       "       'room_type_Private room', 'property_type_Outros',\n",
       "       'property_type_Serviced apartment', 'property_type_Loft',\n",
       "       'room_type_Shared room', 'property_type_Bed and breakfast',\n",
       "       'property_type_Guesthouse', 'cancellation_policy_strict',\n",
       "       'property_type_Guest suite', 'property_type_Hostel',\n",
       "       'room_type_Hotel room', 'is_business_travel_ready'],\n",
       "      dtype='object')"
      ]
     },
     "execution_count": 169,
     "metadata": {},
     "output_type": "execute_result"
    }
   ],
   "source": [
    "df_imp.index"
   ]
  },
  {
   "cell_type": "code",
   "execution_count": 170,
   "metadata": {},
   "outputs": [],
   "source": [
    "new_X = X.drop(['property_type_Serviced apartment', 'property_type_Loft', 'property_type_Outros', \n",
    "               'room_type_Shared room', 'property_type_Bed and breakfast', 'property_type_Guesthouse',  'cancellation_policy_strict', \n",
    "              'property_type_Guest suite', 'property_type_Hostel', 'room_type_Hotel room',\n",
    "                'is_business_travel_ready'], axis=1)"
   ]
  },
  {
   "cell_type": "code",
   "execution_count": 171,
   "metadata": {
    "scrolled": true
   },
   "outputs": [
    {
     "data": {
      "text/plain": [
       "Index(['host_is_superhost', 'host_listings_count', 'latitude', 'longitude',\n",
       "       'accommodates', 'bathrooms', 'bedrooms', 'beds', 'bed_type',\n",
       "       'extra_people', 'minimum_nights', 'instant_bookable', 'ano', 'mes',\n",
       "       'n_amenities', 'property_type_Apartment', 'property_type_Condominium',\n",
       "       'property_type_House', 'room_type_Entire home/apt',\n",
       "       'room_type_Private room', 'cancellation_policy_flexible',\n",
       "       'cancellation_policy_moderate',\n",
       "       'cancellation_policy_strict_14_with_grace_period'],\n",
       "      dtype='object')"
      ]
     },
     "execution_count": 171,
     "metadata": {},
     "output_type": "execute_result"
    }
   ],
   "source": [
    "new_X.columns"
   ]
  },
  {
   "cell_type": "markdown",
   "metadata": {},
   "source": [
    "#### Treinando novamente o Modelo: Extra Trees Regressor - com o new_X para avaliar o impacto do 'drop' de 11 colunas (features)"
   ]
  },
  {
   "cell_type": "code",
   "execution_count": 172,
   "metadata": {},
   "outputs": [],
   "source": [
    "train_new_X, val_new_X, train_y, val_y = train_test_split(new_X, y, random_state=10)"
   ]
  },
  {
   "cell_type": "code",
   "execution_count": 173,
   "metadata": {},
   "outputs": [],
   "source": [
    "modelo_et.fit(train_new_X, train_y)\n",
    "new_val_predictions_et = modelo_et.predict(val_new_X)"
   ]
  },
  {
   "cell_type": "markdown",
   "metadata": {},
   "source": [
    "#### Comparando com os resultados antes do 'drop':  \n",
    "    * R2: 97.49%  \n",
    "    * RMSE: 41.97  "
   ]
  },
  {
   "cell_type": "code",
   "execution_count": 174,
   "metadata": {
    "scrolled": true
   },
   "outputs": [
    {
     "name": "stdout",
     "output_type": "stream",
     "text": [
      "R2: 97.51%\n",
      "RMSE: 41.84\n"
     ]
    }
   ],
   "source": [
    "r2 = r2_score(val_y, new_val_predictions_et)\n",
    "rmse = np.sqrt(mean_squared_error(val_y, new_val_predictions_et))\n",
    "print(f'R2: {r2:.2%}\\nRMSE: {rmse:.2f}')"
   ]
  },
  {
   "cell_type": "markdown",
   "metadata": {},
   "source": [
    "Conforme resultado acima, a exclusão das 11 features menos relevantes não teve impacto negativo na performance do modelo: Extra Trees Regressor."
   ]
  },
  {
   "cell_type": "markdown",
   "metadata": {},
   "source": [
    "#### Agora será salvo um arquivo (modelo.joblib) com o modelo_et (Extra Trees) já treinado (com todas as colunas do df15), conforme resultados acima"
   ]
  },
  {
   "cell_type": "code",
   "execution_count": 175,
   "metadata": {},
   "outputs": [
    {
     "data": {
      "text/plain": [
       "['modelo.joblib']"
      ]
     },
     "execution_count": 175,
     "metadata": {},
     "output_type": "execute_result"
    }
   ],
   "source": [
    "import joblib\n",
    "joblib.dump(modelo_et, 'modelo.joblib')"
   ]
  },
  {
   "cell_type": "markdown",
   "metadata": {},
   "source": [
    "Novos treinamentos, testes, métricas e modelagens podem ser realizados no Google Colab (devido a melhor performance). \n",
    "Para isso, segue abaixo o df_modelagem, com a versão final."
   ]
  },
  {
   "cell_type": "code",
   "execution_count": 176,
   "metadata": {},
   "outputs": [],
   "source": [
    "cols = list(new_X.columns)\n",
    "cols.append('price')\n",
    "df_modelagem = df15[cols]\n",
    "df_modelagem.to_parquet('df_modelagem')"
   ]
  }
 ],
 "metadata": {
  "kernelspec": {
   "display_name": "Python 3",
   "language": "python",
   "name": "python3"
  },
  "language_info": {
   "codemirror_mode": {
    "name": "ipython",
    "version": 3
   },
   "file_extension": ".py",
   "mimetype": "text/x-python",
   "name": "python",
   "nbconvert_exporter": "python",
   "pygments_lexer": "ipython3",
   "version": "3.8.8"
  }
 },
 "nbformat": 4,
 "nbformat_minor": 4
}
